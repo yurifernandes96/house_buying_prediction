{
  "nbformat": 4,
  "nbformat_minor": 0,
  "metadata": {
    "colab": {
      "provenance": []
    },
    "kernelspec": {
      "name": "python3",
      "display_name": "Python 3"
    },
    "language_info": {
      "name": "python"
    }
  },
  "cells": [
    {
      "cell_type": "markdown",
      "source": [
        "# **Introdução**"
      ],
      "metadata": {
        "id": "dh29htDoD23b"
      }
    },
    {
      "cell_type": "markdown",
      "source": [
        "Este código faz parte de uma das etapas do processo seletivo de estágio da VExpenses. O objetivo é comparar diferentes técnicas de aprendizado de máquina que preveem se um usuário de um site imobiliário irá ou não comprar uma casa. Isto será feito a partir de um [dataset](https://github.com/yurifernandes96/house_buying_prediction/blob/main/src/Dataset.csv) que conta com diferentes atributos relacionados aos usuários do site, tais como renda anual, tempo em que navegou pelo site, entre outros."
      ],
      "metadata": {
        "id": "pwsy0tEkFcyI"
      }
    },
    {
      "cell_type": "markdown",
      "source": [
        "# **Bibliotecas**"
      ],
      "metadata": {
        "id": "O77u4fW-D6cL"
      }
    },
    {
      "cell_type": "code",
      "execution_count": 130,
      "metadata": {
        "id": "5Uek74HrDzV2"
      },
      "outputs": [],
      "source": [
        "import pandas as pd\n",
        "import seaborn as sns\n",
        "import matplotlib.pyplot as plt\n",
        "from sklearn.model_selection import train_test_split, GridSearchCV\n",
        "from sklearn.linear_model import LogisticRegression\n",
        "from sklearn.tree import DecisionTreeClassifier\n",
        "from sklearn.ensemble import RandomForestClassifier\n",
        "from sklearn.metrics import classification_report, accuracy_score, confusion_matrix"
      ]
    },
    {
      "cell_type": "markdown",
      "source": [
        "# **Preparação dos dados**"
      ],
      "metadata": {
        "id": "O2GvTCAAEnUr"
      }
    },
    {
      "cell_type": "markdown",
      "source": [
        "## Carregamento"
      ],
      "metadata": {
        "id": "U2iyBOBSHgUy"
      }
    },
    {
      "cell_type": "code",
      "source": [
        "dados = pd.read_csv('https://raw.githubusercontent.com/yurifernandes96/house_buying_prediction/refs/heads/main/src/Dataset.csv')\n",
        "print(dados.shape)\n",
        "dados.head()"
      ],
      "metadata": {
        "colab": {
          "base_uri": "https://localhost:8080/",
          "height": 0
        },
        "id": "qEymUj9cEqTP",
        "outputId": "fe9fc209-92c4-4a62-98aa-802c75cdd2e6"
      },
      "execution_count": 131,
      "outputs": [
        {
          "output_type": "stream",
          "name": "stdout",
          "text": [
            "(200, 6)\n"
          ]
        },
        {
          "output_type": "execute_result",
          "data": {
            "text/plain": [
              "   Idade  Renda Anual (em $)    Gênero  Tempo no Site (min) Anúncio Clicado  \\\n",
              "0   29.0             30000.0  Feminino             5.741706             Não   \n",
              "1   58.0             50000.0  Feminino            21.885505             Sim   \n",
              "2   50.0             70000.0  Feminino             6.121339             Não   \n",
              "3   21.0            100000.0  Feminino            16.264925             Não   \n",
              "4   59.0             50000.0  Feminino            28.235667             Sim   \n",
              "\n",
              "   Compra (0 ou 1)  \n",
              "0                0  \n",
              "1                0  \n",
              "2                1  \n",
              "3                0  \n",
              "4                1  "
            ],
            "text/html": [
              "\n",
              "  <div id=\"df-884064aa-480f-420b-b2bb-653bf65fe959\" class=\"colab-df-container\">\n",
              "    <div>\n",
              "<style scoped>\n",
              "    .dataframe tbody tr th:only-of-type {\n",
              "        vertical-align: middle;\n",
              "    }\n",
              "\n",
              "    .dataframe tbody tr th {\n",
              "        vertical-align: top;\n",
              "    }\n",
              "\n",
              "    .dataframe thead th {\n",
              "        text-align: right;\n",
              "    }\n",
              "</style>\n",
              "<table border=\"1\" class=\"dataframe\">\n",
              "  <thead>\n",
              "    <tr style=\"text-align: right;\">\n",
              "      <th></th>\n",
              "      <th>Idade</th>\n",
              "      <th>Renda Anual (em $)</th>\n",
              "      <th>Gênero</th>\n",
              "      <th>Tempo no Site (min)</th>\n",
              "      <th>Anúncio Clicado</th>\n",
              "      <th>Compra (0 ou 1)</th>\n",
              "    </tr>\n",
              "  </thead>\n",
              "  <tbody>\n",
              "    <tr>\n",
              "      <th>0</th>\n",
              "      <td>29.0</td>\n",
              "      <td>30000.0</td>\n",
              "      <td>Feminino</td>\n",
              "      <td>5.741706</td>\n",
              "      <td>Não</td>\n",
              "      <td>0</td>\n",
              "    </tr>\n",
              "    <tr>\n",
              "      <th>1</th>\n",
              "      <td>58.0</td>\n",
              "      <td>50000.0</td>\n",
              "      <td>Feminino</td>\n",
              "      <td>21.885505</td>\n",
              "      <td>Sim</td>\n",
              "      <td>0</td>\n",
              "    </tr>\n",
              "    <tr>\n",
              "      <th>2</th>\n",
              "      <td>50.0</td>\n",
              "      <td>70000.0</td>\n",
              "      <td>Feminino</td>\n",
              "      <td>6.121339</td>\n",
              "      <td>Não</td>\n",
              "      <td>1</td>\n",
              "    </tr>\n",
              "    <tr>\n",
              "      <th>3</th>\n",
              "      <td>21.0</td>\n",
              "      <td>100000.0</td>\n",
              "      <td>Feminino</td>\n",
              "      <td>16.264925</td>\n",
              "      <td>Não</td>\n",
              "      <td>0</td>\n",
              "    </tr>\n",
              "    <tr>\n",
              "      <th>4</th>\n",
              "      <td>59.0</td>\n",
              "      <td>50000.0</td>\n",
              "      <td>Feminino</td>\n",
              "      <td>28.235667</td>\n",
              "      <td>Sim</td>\n",
              "      <td>1</td>\n",
              "    </tr>\n",
              "  </tbody>\n",
              "</table>\n",
              "</div>\n",
              "    <div class=\"colab-df-buttons\">\n",
              "\n",
              "  <div class=\"colab-df-container\">\n",
              "    <button class=\"colab-df-convert\" onclick=\"convertToInteractive('df-884064aa-480f-420b-b2bb-653bf65fe959')\"\n",
              "            title=\"Convert this dataframe to an interactive table.\"\n",
              "            style=\"display:none;\">\n",
              "\n",
              "  <svg xmlns=\"http://www.w3.org/2000/svg\" height=\"24px\" viewBox=\"0 -960 960 960\">\n",
              "    <path d=\"M120-120v-720h720v720H120Zm60-500h600v-160H180v160Zm220 220h160v-160H400v160Zm0 220h160v-160H400v160ZM180-400h160v-160H180v160Zm440 0h160v-160H620v160ZM180-180h160v-160H180v160Zm440 0h160v-160H620v160Z\"/>\n",
              "  </svg>\n",
              "    </button>\n",
              "\n",
              "  <style>\n",
              "    .colab-df-container {\n",
              "      display:flex;\n",
              "      gap: 12px;\n",
              "    }\n",
              "\n",
              "    .colab-df-convert {\n",
              "      background-color: #E8F0FE;\n",
              "      border: none;\n",
              "      border-radius: 50%;\n",
              "      cursor: pointer;\n",
              "      display: none;\n",
              "      fill: #1967D2;\n",
              "      height: 32px;\n",
              "      padding: 0 0 0 0;\n",
              "      width: 32px;\n",
              "    }\n",
              "\n",
              "    .colab-df-convert:hover {\n",
              "      background-color: #E2EBFA;\n",
              "      box-shadow: 0px 1px 2px rgba(60, 64, 67, 0.3), 0px 1px 3px 1px rgba(60, 64, 67, 0.15);\n",
              "      fill: #174EA6;\n",
              "    }\n",
              "\n",
              "    .colab-df-buttons div {\n",
              "      margin-bottom: 4px;\n",
              "    }\n",
              "\n",
              "    [theme=dark] .colab-df-convert {\n",
              "      background-color: #3B4455;\n",
              "      fill: #D2E3FC;\n",
              "    }\n",
              "\n",
              "    [theme=dark] .colab-df-convert:hover {\n",
              "      background-color: #434B5C;\n",
              "      box-shadow: 0px 1px 3px 1px rgba(0, 0, 0, 0.15);\n",
              "      filter: drop-shadow(0px 1px 2px rgba(0, 0, 0, 0.3));\n",
              "      fill: #FFFFFF;\n",
              "    }\n",
              "  </style>\n",
              "\n",
              "    <script>\n",
              "      const buttonEl =\n",
              "        document.querySelector('#df-884064aa-480f-420b-b2bb-653bf65fe959 button.colab-df-convert');\n",
              "      buttonEl.style.display =\n",
              "        google.colab.kernel.accessAllowed ? 'block' : 'none';\n",
              "\n",
              "      async function convertToInteractive(key) {\n",
              "        const element = document.querySelector('#df-884064aa-480f-420b-b2bb-653bf65fe959');\n",
              "        const dataTable =\n",
              "          await google.colab.kernel.invokeFunction('convertToInteractive',\n",
              "                                                    [key], {});\n",
              "        if (!dataTable) return;\n",
              "\n",
              "        const docLinkHtml = 'Like what you see? Visit the ' +\n",
              "          '<a target=\"_blank\" href=https://colab.research.google.com/notebooks/data_table.ipynb>data table notebook</a>'\n",
              "          + ' to learn more about interactive tables.';\n",
              "        element.innerHTML = '';\n",
              "        dataTable['output_type'] = 'display_data';\n",
              "        await google.colab.output.renderOutput(dataTable, element);\n",
              "        const docLink = document.createElement('div');\n",
              "        docLink.innerHTML = docLinkHtml;\n",
              "        element.appendChild(docLink);\n",
              "      }\n",
              "    </script>\n",
              "  </div>\n",
              "\n",
              "\n",
              "<div id=\"df-3facebd6-c748-4dfa-952a-9f25f0134f08\">\n",
              "  <button class=\"colab-df-quickchart\" onclick=\"quickchart('df-3facebd6-c748-4dfa-952a-9f25f0134f08')\"\n",
              "            title=\"Suggest charts\"\n",
              "            style=\"display:none;\">\n",
              "\n",
              "<svg xmlns=\"http://www.w3.org/2000/svg\" height=\"24px\"viewBox=\"0 0 24 24\"\n",
              "     width=\"24px\">\n",
              "    <g>\n",
              "        <path d=\"M19 3H5c-1.1 0-2 .9-2 2v14c0 1.1.9 2 2 2h14c1.1 0 2-.9 2-2V5c0-1.1-.9-2-2-2zM9 17H7v-7h2v7zm4 0h-2V7h2v10zm4 0h-2v-4h2v4z\"/>\n",
              "    </g>\n",
              "</svg>\n",
              "  </button>\n",
              "\n",
              "<style>\n",
              "  .colab-df-quickchart {\n",
              "      --bg-color: #E8F0FE;\n",
              "      --fill-color: #1967D2;\n",
              "      --hover-bg-color: #E2EBFA;\n",
              "      --hover-fill-color: #174EA6;\n",
              "      --disabled-fill-color: #AAA;\n",
              "      --disabled-bg-color: #DDD;\n",
              "  }\n",
              "\n",
              "  [theme=dark] .colab-df-quickchart {\n",
              "      --bg-color: #3B4455;\n",
              "      --fill-color: #D2E3FC;\n",
              "      --hover-bg-color: #434B5C;\n",
              "      --hover-fill-color: #FFFFFF;\n",
              "      --disabled-bg-color: #3B4455;\n",
              "      --disabled-fill-color: #666;\n",
              "  }\n",
              "\n",
              "  .colab-df-quickchart {\n",
              "    background-color: var(--bg-color);\n",
              "    border: none;\n",
              "    border-radius: 50%;\n",
              "    cursor: pointer;\n",
              "    display: none;\n",
              "    fill: var(--fill-color);\n",
              "    height: 32px;\n",
              "    padding: 0;\n",
              "    width: 32px;\n",
              "  }\n",
              "\n",
              "  .colab-df-quickchart:hover {\n",
              "    background-color: var(--hover-bg-color);\n",
              "    box-shadow: 0 1px 2px rgba(60, 64, 67, 0.3), 0 1px 3px 1px rgba(60, 64, 67, 0.15);\n",
              "    fill: var(--button-hover-fill-color);\n",
              "  }\n",
              "\n",
              "  .colab-df-quickchart-complete:disabled,\n",
              "  .colab-df-quickchart-complete:disabled:hover {\n",
              "    background-color: var(--disabled-bg-color);\n",
              "    fill: var(--disabled-fill-color);\n",
              "    box-shadow: none;\n",
              "  }\n",
              "\n",
              "  .colab-df-spinner {\n",
              "    border: 2px solid var(--fill-color);\n",
              "    border-color: transparent;\n",
              "    border-bottom-color: var(--fill-color);\n",
              "    animation:\n",
              "      spin 1s steps(1) infinite;\n",
              "  }\n",
              "\n",
              "  @keyframes spin {\n",
              "    0% {\n",
              "      border-color: transparent;\n",
              "      border-bottom-color: var(--fill-color);\n",
              "      border-left-color: var(--fill-color);\n",
              "    }\n",
              "    20% {\n",
              "      border-color: transparent;\n",
              "      border-left-color: var(--fill-color);\n",
              "      border-top-color: var(--fill-color);\n",
              "    }\n",
              "    30% {\n",
              "      border-color: transparent;\n",
              "      border-left-color: var(--fill-color);\n",
              "      border-top-color: var(--fill-color);\n",
              "      border-right-color: var(--fill-color);\n",
              "    }\n",
              "    40% {\n",
              "      border-color: transparent;\n",
              "      border-right-color: var(--fill-color);\n",
              "      border-top-color: var(--fill-color);\n",
              "    }\n",
              "    60% {\n",
              "      border-color: transparent;\n",
              "      border-right-color: var(--fill-color);\n",
              "    }\n",
              "    80% {\n",
              "      border-color: transparent;\n",
              "      border-right-color: var(--fill-color);\n",
              "      border-bottom-color: var(--fill-color);\n",
              "    }\n",
              "    90% {\n",
              "      border-color: transparent;\n",
              "      border-bottom-color: var(--fill-color);\n",
              "    }\n",
              "  }\n",
              "</style>\n",
              "\n",
              "  <script>\n",
              "    async function quickchart(key) {\n",
              "      const quickchartButtonEl =\n",
              "        document.querySelector('#' + key + ' button');\n",
              "      quickchartButtonEl.disabled = true;  // To prevent multiple clicks.\n",
              "      quickchartButtonEl.classList.add('colab-df-spinner');\n",
              "      try {\n",
              "        const charts = await google.colab.kernel.invokeFunction(\n",
              "            'suggestCharts', [key], {});\n",
              "      } catch (error) {\n",
              "        console.error('Error during call to suggestCharts:', error);\n",
              "      }\n",
              "      quickchartButtonEl.classList.remove('colab-df-spinner');\n",
              "      quickchartButtonEl.classList.add('colab-df-quickchart-complete');\n",
              "    }\n",
              "    (() => {\n",
              "      let quickchartButtonEl =\n",
              "        document.querySelector('#df-3facebd6-c748-4dfa-952a-9f25f0134f08 button');\n",
              "      quickchartButtonEl.style.display =\n",
              "        google.colab.kernel.accessAllowed ? 'block' : 'none';\n",
              "    })();\n",
              "  </script>\n",
              "</div>\n",
              "\n",
              "    </div>\n",
              "  </div>\n"
            ],
            "application/vnd.google.colaboratory.intrinsic+json": {
              "type": "dataframe",
              "variable_name": "dados",
              "summary": "{\n  \"name\": \"dados\",\n  \"rows\": 200,\n  \"fields\": [\n    {\n      \"column\": \"Idade\",\n      \"properties\": {\n        \"dtype\": \"number\",\n        \"std\": 12.679917661043312,\n        \"min\": 18.0,\n        \"max\": 59.0,\n        \"num_unique_values\": 42,\n        \"samples\": [\n          32.0,\n          18.0,\n          41.0\n        ],\n        \"semantic_type\": \"\",\n        \"description\": \"\"\n      }\n    },\n    {\n      \"column\": \"Renda Anual (em $)\",\n      \"properties\": {\n        \"dtype\": \"number\",\n        \"std\": 25612.061811440122,\n        \"min\": 30000.0,\n        \"max\": 100000.0,\n        \"num_unique_values\": 4,\n        \"samples\": [\n          50000.0,\n          100000.0,\n          30000.0\n        ],\n        \"semantic_type\": \"\",\n        \"description\": \"\"\n      }\n    },\n    {\n      \"column\": \"G\\u00eanero\",\n      \"properties\": {\n        \"dtype\": \"category\",\n        \"num_unique_values\": 2,\n        \"samples\": [\n          \"Masculino\",\n          \"Feminino\"\n        ],\n        \"semantic_type\": \"\",\n        \"description\": \"\"\n      }\n    },\n    {\n      \"column\": \"Tempo no Site (min)\",\n      \"properties\": {\n        \"dtype\": \"number\",\n        \"std\": 7.7240877014923095,\n        \"min\": -1.0,\n        \"max\": 29.8534840305292,\n        \"num_unique_values\": 196,\n        \"samples\": [\n          7.41691124116799,\n          27.354771866603\n        ],\n        \"semantic_type\": \"\",\n        \"description\": \"\"\n      }\n    },\n    {\n      \"column\": \"An\\u00fancio Clicado\",\n      \"properties\": {\n        \"dtype\": \"category\",\n        \"num_unique_values\": 2,\n        \"samples\": [\n          \"Sim\",\n          \"N\\u00e3o\"\n        ],\n        \"semantic_type\": \"\",\n        \"description\": \"\"\n      }\n    },\n    {\n      \"column\": \"Compra (0 ou 1)\",\n      \"properties\": {\n        \"dtype\": \"number\",\n        \"std\": 0,\n        \"min\": 0,\n        \"max\": 1,\n        \"num_unique_values\": 2,\n        \"samples\": [\n          1,\n          0\n        ],\n        \"semantic_type\": \"\",\n        \"description\": \"\"\n      }\n    }\n  ]\n}"
            }
          },
          "metadata": {},
          "execution_count": 131
        }
      ]
    },
    {
      "cell_type": "code",
      "source": [
        "# Renomeando as colunas para simplificar a análise\n",
        "dados.columns = ['Idade', 'Renda', 'Gênero', 'Tempo_Site', 'Anúncio_Clicado', 'Comprou']\n",
        "\n",
        "dados.info()"
      ],
      "metadata": {
        "colab": {
          "base_uri": "https://localhost:8080/"
        },
        "id": "Dl6uTYL0u5Vx",
        "outputId": "894a3207-a1cc-4881-c7a3-5933c5221866"
      },
      "execution_count": 132,
      "outputs": [
        {
          "output_type": "stream",
          "name": "stdout",
          "text": [
            "<class 'pandas.core.frame.DataFrame'>\n",
            "RangeIndex: 200 entries, 0 to 199\n",
            "Data columns (total 6 columns):\n",
            " #   Column           Non-Null Count  Dtype  \n",
            "---  ------           --------------  -----  \n",
            " 0   Idade            190 non-null    float64\n",
            " 1   Renda            189 non-null    float64\n",
            " 2   Gênero           193 non-null    object \n",
            " 3   Tempo_Site       200 non-null    float64\n",
            " 4   Anúncio_Clicado  190 non-null    object \n",
            " 5   Comprou          200 non-null    int64  \n",
            "dtypes: float64(3), int64(1), object(2)\n",
            "memory usage: 9.5+ KB\n"
          ]
        }
      ]
    },
    {
      "cell_type": "markdown",
      "source": [
        "Existem colunas com valores nulos que devem ser tratados, faremos um tratamento individualizado para cada coluna, a partir de uma análise da distribuição dos seus dados."
      ],
      "metadata": {
        "id": "uG5gG6sBsg2q"
      }
    },
    {
      "cell_type": "markdown",
      "source": [
        "## Idade"
      ],
      "metadata": {
        "id": "g_PvhzHrtMZz"
      }
    },
    {
      "cell_type": "code",
      "source": [
        "# Configura o tamanho da figura e cria os subplots\n",
        "fig, axes = plt.subplots(1, 2, figsize=(12, 6))\n",
        "\n",
        "# Histograma\n",
        "sns.histplot(data=dados['Idade'].dropna(), kde=False, ax=axes[0])\n",
        "axes[0].set_title('Distribuição de Idade')\n",
        "axes[0].set_xlabel('Idade')\n",
        "axes[0].set_ylabel('Frequência')\n",
        "\n",
        "# Boxplot\n",
        "sns.boxplot(data=dados['Idade'].dropna(), orient='h', ax=axes[1])\n",
        "axes[1].set_title('Boxplot de Idade')\n",
        "axes[1].set_xlabel('Idade')\n",
        "\n",
        "plt.tight_layout()\n",
        "plt.show()"
      ],
      "metadata": {
        "colab": {
          "base_uri": "https://localhost:8080/",
          "height": 0
        },
        "id": "w0v3Og-6wxz5",
        "outputId": "8c591e1d-8799-4bb4-af7e-08af149324e1"
      },
      "execution_count": 133,
      "outputs": [
        {
          "output_type": "display_data",
          "data": {
            "text/plain": [
              "<Figure size 1200x600 with 2 Axes>"
            ],
            "image/png": "[encoded data removed]"
          },
          "metadata": {}
        }
      ]
    },
    {
      "cell_type": "markdown",
      "source": [
        "O histograma e o boxplot das idades mostrou valores condizentes com o esperado, não havendo nenhum valor discrepante (outlier) e nenhuma idade com concentração de usuários muito maior do que as demais.\n",
        "\n",
        "Como visto anteriormente com o método \"info\", existem 10 valores nulos na coluna idade. Por se tratar de um dataset de apenas 200 usuários, esses 10 usuários com idade faltante são significativos demais para serem simplesmente descartados. Então escolhemos por preencher os valores nulos de idade com a **mediana** de todas as idades."
      ],
      "metadata": {
        "id": "A7FGpBFTy51d"
      }
    },
    {
      "cell_type": "code",
      "source": [
        "# Preenchendo os valores nulos com a mediana\n",
        "mediana_idades = dados['Idade'].median()\n",
        "dados.fillna({'Idade': mediana_idades}, inplace=True)"
      ],
      "metadata": {
        "id": "p2n9dck2zl2N"
      },
      "execution_count": 134,
      "outputs": []
    },
    {
      "cell_type": "markdown",
      "source": [
        "## Renda"
      ],
      "metadata": {
        "id": "iyPuvLfJ5NXY"
      }
    },
    {
      "cell_type": "code",
      "source": [
        "# Configura o tamanho da figura e cria os subplots\n",
        "fig, axes = plt.subplots(1, 2, figsize=(12, 6))\n",
        "\n",
        "# Histograma\n",
        "sns.histplot(data=dados['Renda'].dropna(), kde=False, ax=axes[0])\n",
        "axes[0].set_title('Distribuição de Renda')\n",
        "axes[0].set_xlabel('Renda')\n",
        "axes[0].set_ylabel('Frequência')\n",
        "\n",
        "# Boxplot\n",
        "sns.boxplot(data=dados['Renda'].dropna(), orient='h', ax=axes[1])\n",
        "axes[1].set_title('Boxplot de Renda')\n",
        "axes[1].set_xlabel('Renda')\n",
        "\n",
        "plt.tight_layout()\n",
        "plt.show()"
      ],
      "metadata": {
        "colab": {
          "base_uri": "https://localhost:8080/",
          "height": 0
        },
        "id": "EsQL-kT04ZWU",
        "outputId": "955b8deb-2e5d-4e03-a31d-a7e40c503edc"
      },
      "execution_count": 135,
      "outputs": [
        {
          "output_type": "display_data",
          "data": {
            "text/plain": [
              "<Figure size 1200x600 with 2 Axes>"
            ],
            "image/png": "[encoded data removed]"
          },
          "metadata": {}
        }
      ]
    },
    {
      "cell_type": "markdown",
      "source": [
        "Embora pareça ser uma variável categórica (só assume valores 30000, 50000, 70000 ou 100000), por conhecimento de domínio sabemos que 'Renda' é uma variável contínua. Então não havendo nenhum outlier, optamos por substituir os valores nulos pela **média** das rendas anuais dos demais usuários."
      ],
      "metadata": {
        "id": "CLvmcK8M8Dcf"
      }
    },
    {
      "cell_type": "code",
      "source": [
        "media_rendas = dados['Renda'].mean()\n",
        "dados.fillna({'Renda': media_rendas}, inplace=True)"
      ],
      "metadata": {
        "id": "VwERbEm57tW7"
      },
      "execution_count": 136,
      "outputs": []
    },
    {
      "cell_type": "markdown",
      "source": [
        "## Gênero"
      ],
      "metadata": {
        "id": "ocDS06D69eIZ"
      }
    },
    {
      "cell_type": "markdown",
      "source": [
        "Por experiência de domínio, devemos analisar se a coluna 'Gênero' exerce de fato algum impacto na variável 'Comprou', levando em conta que o sexo de uma pessoa não deveria impactar na sua decisão de comprar ou não uma casa.\n",
        "\n",
        "Inicialmente, vamos visualizar a distribuição da varíavel \"Comprou\" independente do gênero do usuário para então compará-la com a sua distribuição dentro de cada gênero."
      ],
      "metadata": {
        "id": "MNYbgxid-uhP"
      }
    },
    {
      "cell_type": "code",
      "source": [
        "# Configura o tamanho da figura e cria os subplots\n",
        "fig, axes = plt.subplots(1, 2, figsize=(12, 6))\n",
        "\n",
        "# Distribuição da variável \"Comprou\" independente do gênero\n",
        "sns.countplot(data=dados, x='Comprou', hue='Comprou', palette='viridis', legend=False, ax=axes[0])\n",
        "axes[0].set_title('Distribuição da variável \"Comprou\"')\n",
        "axes[0].get_yaxis().set_visible(False)\n",
        "for container in axes[0].containers:\n",
        "    axes[0].bar_label(container)\n",
        "\n",
        "# Distribuição da variável \"Comprou\" em cada gênero\n",
        "sns.countplot(data=dados, x='Gênero', hue='Comprou', palette='viridis', ax=axes[1])\n",
        "axes[1].get_yaxis().set_visible(False)\n",
        "for container in axes[1].containers: # posiciona valores no topo das barras\n",
        "    axes[1].bar_label(container)\n",
        "plt.title('Distribuição da variável \"Comprou\" por Gênero')\n",
        "plt.xlabel('Gênero')\n",
        "\n",
        "plt.tight_layout()\n",
        "plt.show()"
      ],
      "metadata": {
        "colab": {
          "base_uri": "https://localhost:8080/",
          "height": 0
        },
        "id": "2lvsHWMP9gby",
        "outputId": "f15cf381-9ca0-4363-cc02-572781fad91d"
      },
      "execution_count": 137,
      "outputs": [
        {
          "output_type": "display_data",
          "data": {
            "text/plain": [
              "<Figure size 1200x600 with 2 Axes>"
            ],
            "image/png": "[encoded data removed]"
          },
          "metadata": {}
        }
      ]
    },
    {
      "cell_type": "markdown",
      "source": [
        "Podemos identificar que a variável \"Gênero\" não exerce impacto algum em \"Comprou\", uma vez que a proporção de pessoas que compram uma casa é praticamente a mesma independente do gênero."
      ],
      "metadata": {
        "id": "K1US7VJHIRGD"
      }
    },
    {
      "cell_type": "code",
      "source": [
        "# Remove a coluna \"Gênero\"\n",
        "dados.drop('Gênero', axis=1, inplace=True)"
      ],
      "metadata": {
        "id": "Td39wtfmF88g"
      },
      "execution_count": 138,
      "outputs": []
    },
    {
      "cell_type": "markdown",
      "source": [
        "## Tempo no site"
      ],
      "metadata": {
        "id": "iqzyvIgcJtRt"
      }
    },
    {
      "cell_type": "markdown",
      "source": [
        "Embora não haja valores nulos na variável \"Tempo_Site\", ainda assim devemos analisar a distribuição de seus valores em busca de outliers."
      ],
      "metadata": {
        "id": "eGbGO0gPJydd"
      }
    },
    {
      "cell_type": "code",
      "source": [
        "# Configura o tamanho da figura e cria os subplots\n",
        "fig, axes = plt.subplots(1, 2, figsize=(12, 6))\n",
        "\n",
        "# Histograma\n",
        "sns.histplot(data=dados['Tempo_Site'], kde=False, ax=axes[0])\n",
        "axes[0].set_title('Distribuição de Tempo_Site')\n",
        "axes[0].set_xlabel('Tempo_Site')\n",
        "axes[0].set_ylabel('Frequência')\n",
        "\n",
        "# Boxplot\n",
        "sns.boxplot(data=dados['Tempo_Site'], orient='h', ax=axes[1])\n",
        "axes[1].set_title('Boxplot de Tempo_Site')\n",
        "axes[1].set_xlabel('Tempo_Site')\n",
        "\n",
        "plt.tight_layout()\n",
        "plt.show()"
      ],
      "metadata": {
        "colab": {
          "base_uri": "https://localhost:8080/",
          "height": 0
        },
        "id": "0CEGc34EJvOf",
        "outputId": "574447a6-ce18-4a68-9cb7-a4b80ad31346"
      },
      "execution_count": 139,
      "outputs": [
        {
          "output_type": "display_data",
          "data": {
            "text/plain": [
              "<Figure size 1200x600 with 2 Axes>"
            ],
            "image/png": "[encoded data removed]"
          },
          "metadata": {}
        }
      ]
    },
    {
      "cell_type": "markdown",
      "source": [
        "Pela análise do histograma e do boxplot, notamos que existem valores negativos que são incoerentes com a realidade."
      ],
      "metadata": {
        "id": "I5PdzT6MKqr1"
      }
    },
    {
      "cell_type": "code",
      "source": [
        "dados[dados['Tempo_Site'] < 0]"
      ],
      "metadata": {
        "colab": {
          "base_uri": "https://localhost:8080/",
          "height": 0
        },
        "id": "GZqTQfNYKLsX",
        "outputId": "a2604e04-694c-4e09-eeca-a695e820e99f"
      },
      "execution_count": 140,
      "outputs": [
        {
          "output_type": "execute_result",
          "data": {
            "text/plain": [
              "     Idade         Renda  Tempo_Site Anúncio_Clicado  Comprou\n",
              "107   38.0  50000.000000        -1.0             Sim        0\n",
              "116   40.0  30000.000000        -1.0             Sim        0\n",
              "132   38.0  50000.000000        -1.0             NaN        0\n",
              "133   20.0  58253.968254        -1.0             Sim        0\n",
              "147   54.0  70000.000000        -1.0             Sim        1"
            ],
            "text/html": [
              "\n",
              "  <div id=\"df-eab55c44-5333-4cd7-aea8-7ada14406fd6\" class=\"colab-df-container\">\n",
              "    <div>\n",
              "<style scoped>\n",
              "    .dataframe tbody tr th:only-of-type {\n",
              "        vertical-align: middle;\n",
              "    }\n",
              "\n",
              "    .dataframe tbody tr th {\n",
              "        vertical-align: top;\n",
              "    }\n",
              "\n",
              "    .dataframe thead th {\n",
              "        text-align: right;\n",
              "    }\n",
              "</style>\n",
              "<table border=\"1\" class=\"dataframe\">\n",
              "  <thead>\n",
              "    <tr style=\"text-align: right;\">\n",
              "      <th></th>\n",
              "      <th>Idade</th>\n",
              "      <th>Renda</th>\n",
              "      <th>Tempo_Site</th>\n",
              "      <th>Anúncio_Clicado</th>\n",
              "      <th>Comprou</th>\n",
              "    </tr>\n",
              "  </thead>\n",
              "  <tbody>\n",
              "    <tr>\n",
              "      <th>107</th>\n",
              "      <td>38.0</td>\n",
              "      <td>50000.000000</td>\n",
              "      <td>-1.0</td>\n",
              "      <td>Sim</td>\n",
              "      <td>0</td>\n",
              "    </tr>\n",
              "    <tr>\n",
              "      <th>116</th>\n",
              "      <td>40.0</td>\n",
              "      <td>30000.000000</td>\n",
              "      <td>-1.0</td>\n",
              "      <td>Sim</td>\n",
              "      <td>0</td>\n",
              "    </tr>\n",
              "    <tr>\n",
              "      <th>132</th>\n",
              "      <td>38.0</td>\n",
              "      <td>50000.000000</td>\n",
              "      <td>-1.0</td>\n",
              "      <td>NaN</td>\n",
              "      <td>0</td>\n",
              "    </tr>\n",
              "    <tr>\n",
              "      <th>133</th>\n",
              "      <td>20.0</td>\n",
              "      <td>58253.968254</td>\n",
              "      <td>-1.0</td>\n",
              "      <td>Sim</td>\n",
              "      <td>0</td>\n",
              "    </tr>\n",
              "    <tr>\n",
              "      <th>147</th>\n",
              "      <td>54.0</td>\n",
              "      <td>70000.000000</td>\n",
              "      <td>-1.0</td>\n",
              "      <td>Sim</td>\n",
              "      <td>1</td>\n",
              "    </tr>\n",
              "  </tbody>\n",
              "</table>\n",
              "</div>\n",
              "    <div class=\"colab-df-buttons\">\n",
              "\n",
              "  <div class=\"colab-df-container\">\n",
              "    <button class=\"colab-df-convert\" onclick=\"convertToInteractive('df-eab55c44-5333-4cd7-aea8-7ada14406fd6')\"\n",
              "            title=\"Convert this dataframe to an interactive table.\"\n",
              "            style=\"display:none;\">\n",
              "\n",
              "  <svg xmlns=\"http://www.w3.org/2000/svg\" height=\"24px\" viewBox=\"0 -960 960 960\">\n",
              "    <path d=\"M120-120v-720h720v720H120Zm60-500h600v-160H180v160Zm220 220h160v-160H400v160Zm0 220h160v-160H400v160ZM180-400h160v-160H180v160Zm440 0h160v-160H620v160ZM180-180h160v-160H180v160Zm440 0h160v-160H620v160Z\"/>\n",
              "  </svg>\n",
              "    </button>\n",
              "\n",
              "  <style>\n",
              "    .colab-df-container {\n",
              "      display:flex;\n",
              "      gap: 12px;\n",
              "    }\n",
              "\n",
              "    .colab-df-convert {\n",
              "      background-color: #E8F0FE;\n",
              "      border: none;\n",
              "      border-radius: 50%;\n",
              "      cursor: pointer;\n",
              "      display: none;\n",
              "      fill: #1967D2;\n",
              "      height: 32px;\n",
              "      padding: 0 0 0 0;\n",
              "      width: 32px;\n",
              "    }\n",
              "\n",
              "    .colab-df-convert:hover {\n",
              "      background-color: #E2EBFA;\n",
              "      box-shadow: 0px 1px 2px rgba(60, 64, 67, 0.3), 0px 1px 3px 1px rgba(60, 64, 67, 0.15);\n",
              "      fill: #174EA6;\n",
              "    }\n",
              "\n",
              "    .colab-df-buttons div {\n",
              "      margin-bottom: 4px;\n",
              "    }\n",
              "\n",
              "    [theme=dark] .colab-df-convert {\n",
              "      background-color: #3B4455;\n",
              "      fill: #D2E3FC;\n",
              "    }\n",
              "\n",
              "    [theme=dark] .colab-df-convert:hover {\n",
              "      background-color: #434B5C;\n",
              "      box-shadow: 0px 1px 3px 1px rgba(0, 0, 0, 0.15);\n",
              "      filter: drop-shadow(0px 1px 2px rgba(0, 0, 0, 0.3));\n",
              "      fill: #FFFFFF;\n",
              "    }\n",
              "  </style>\n",
              "\n",
              "    <script>\n",
              "      const buttonEl =\n",
              "        document.querySelector('#df-eab55c44-5333-4cd7-aea8-7ada14406fd6 button.colab-df-convert');\n",
              "      buttonEl.style.display =\n",
              "        google.colab.kernel.accessAllowed ? 'block' : 'none';\n",
              "\n",
              "      async function convertToInteractive(key) {\n",
              "        const element = document.querySelector('#df-eab55c44-5333-4cd7-aea8-7ada14406fd6');\n",
              "        const dataTable =\n",
              "          await google.colab.kernel.invokeFunction('convertToInteractive',\n",
              "                                                    [key], {});\n",
              "        if (!dataTable) return;\n",
              "\n",
              "        const docLinkHtml = 'Like what you see? Visit the ' +\n",
              "          '<a target=\"_blank\" href=https://colab.research.google.com/notebooks/data_table.ipynb>data table notebook</a>'\n",
              "          + ' to learn more about interactive tables.';\n",
              "        element.innerHTML = '';\n",
              "        dataTable['output_type'] = 'display_data';\n",
              "        await google.colab.output.renderOutput(dataTable, element);\n",
              "        const docLink = document.createElement('div');\n",
              "        docLink.innerHTML = docLinkHtml;\n",
              "        element.appendChild(docLink);\n",
              "      }\n",
              "    </script>\n",
              "  </div>\n",
              "\n",
              "\n",
              "<div id=\"df-e00c8ee4-f08f-4d65-80f3-ad2122d5f5cd\">\n",
              "  <button class=\"colab-df-quickchart\" onclick=\"quickchart('df-e00c8ee4-f08f-4d65-80f3-ad2122d5f5cd')\"\n",
              "            title=\"Suggest charts\"\n",
              "            style=\"display:none;\">\n",
              "\n",
              "<svg xmlns=\"http://www.w3.org/2000/svg\" height=\"24px\"viewBox=\"0 0 24 24\"\n",
              "     width=\"24px\">\n",
              "    <g>\n",
              "        <path d=\"M19 3H5c-1.1 0-2 .9-2 2v14c0 1.1.9 2 2 2h14c1.1 0 2-.9 2-2V5c0-1.1-.9-2-2-2zM9 17H7v-7h2v7zm4 0h-2V7h2v10zm4 0h-2v-4h2v4z\"/>\n",
              "    </g>\n",
              "</svg>\n",
              "  </button>\n",
              "\n",
              "<style>\n",
              "  .colab-df-quickchart {\n",
              "      --bg-color: #E8F0FE;\n",
              "      --fill-color: #1967D2;\n",
              "      --hover-bg-color: #E2EBFA;\n",
              "      --hover-fill-color: #174EA6;\n",
              "      --disabled-fill-color: #AAA;\n",
              "      --disabled-bg-color: #DDD;\n",
              "  }\n",
              "\n",
              "  [theme=dark] .colab-df-quickchart {\n",
              "      --bg-color: #3B4455;\n",
              "      --fill-color: #D2E3FC;\n",
              "      --hover-bg-color: #434B5C;\n",
              "      --hover-fill-color: #FFFFFF;\n",
              "      --disabled-bg-color: #3B4455;\n",
              "      --disabled-fill-color: #666;\n",
              "  }\n",
              "\n",
              "  .colab-df-quickchart {\n",
              "    background-color: var(--bg-color);\n",
              "    border: none;\n",
              "    border-radius: 50%;\n",
              "    cursor: pointer;\n",
              "    display: none;\n",
              "    fill: var(--fill-color);\n",
              "    height: 32px;\n",
              "    padding: 0;\n",
              "    width: 32px;\n",
              "  }\n",
              "\n",
              "  .colab-df-quickchart:hover {\n",
              "    background-color: var(--hover-bg-color);\n",
              "    box-shadow: 0 1px 2px rgba(60, 64, 67, 0.3), 0 1px 3px 1px rgba(60, 64, 67, 0.15);\n",
              "    fill: var(--button-hover-fill-color);\n",
              "  }\n",
              "\n",
              "  .colab-df-quickchart-complete:disabled,\n",
              "  .colab-df-quickchart-complete:disabled:hover {\n",
              "    background-color: var(--disabled-bg-color);\n",
              "    fill: var(--disabled-fill-color);\n",
              "    box-shadow: none;\n",
              "  }\n",
              "\n",
              "  .colab-df-spinner {\n",
              "    border: 2px solid var(--fill-color);\n",
              "    border-color: transparent;\n",
              "    border-bottom-color: var(--fill-color);\n",
              "    animation:\n",
              "      spin 1s steps(1) infinite;\n",
              "  }\n",
              "\n",
              "  @keyframes spin {\n",
              "    0% {\n",
              "      border-color: transparent;\n",
              "      border-bottom-color: var(--fill-color);\n",
              "      border-left-color: var(--fill-color);\n",
              "    }\n",
              "    20% {\n",
              "      border-color: transparent;\n",
              "      border-left-color: var(--fill-color);\n",
              "      border-top-color: var(--fill-color);\n",
              "    }\n",
              "    30% {\n",
              "      border-color: transparent;\n",
              "      border-left-color: var(--fill-color);\n",
              "      border-top-color: var(--fill-color);\n",
              "      border-right-color: var(--fill-color);\n",
              "    }\n",
              "    40% {\n",
              "      border-color: transparent;\n",
              "      border-right-color: var(--fill-color);\n",
              "      border-top-color: var(--fill-color);\n",
              "    }\n",
              "    60% {\n",
              "      border-color: transparent;\n",
              "      border-right-color: var(--fill-color);\n",
              "    }\n",
              "    80% {\n",
              "      border-color: transparent;\n",
              "      border-right-color: var(--fill-color);\n",
              "      border-bottom-color: var(--fill-color);\n",
              "    }\n",
              "    90% {\n",
              "      border-color: transparent;\n",
              "      border-bottom-color: var(--fill-color);\n",
              "    }\n",
              "  }\n",
              "</style>\n",
              "\n",
              "  <script>\n",
              "    async function quickchart(key) {\n",
              "      const quickchartButtonEl =\n",
              "        document.querySelector('#' + key + ' button');\n",
              "      quickchartButtonEl.disabled = true;  // To prevent multiple clicks.\n",
              "      quickchartButtonEl.classList.add('colab-df-spinner');\n",
              "      try {\n",
              "        const charts = await google.colab.kernel.invokeFunction(\n",
              "            'suggestCharts', [key], {});\n",
              "      } catch (error) {\n",
              "        console.error('Error during call to suggestCharts:', error);\n",
              "      }\n",
              "      quickchartButtonEl.classList.remove('colab-df-spinner');\n",
              "      quickchartButtonEl.classList.add('colab-df-quickchart-complete');\n",
              "    }\n",
              "    (() => {\n",
              "      let quickchartButtonEl =\n",
              "        document.querySelector('#df-e00c8ee4-f08f-4d65-80f3-ad2122d5f5cd button');\n",
              "      quickchartButtonEl.style.display =\n",
              "        google.colab.kernel.accessAllowed ? 'block' : 'none';\n",
              "    })();\n",
              "  </script>\n",
              "</div>\n",
              "\n",
              "    </div>\n",
              "  </div>\n"
            ],
            "application/vnd.google.colaboratory.intrinsic+json": {
              "type": "dataframe",
              "summary": "{\n  \"name\": \"dados[dados['Tempo_Site'] < 0]\",\n  \"rows\": 5,\n  \"fields\": [\n    {\n      \"column\": \"Idade\",\n      \"properties\": {\n        \"dtype\": \"number\",\n        \"std\": 12.083045973594572,\n        \"min\": 20.0,\n        \"max\": 54.0,\n        \"num_unique_values\": 4,\n        \"samples\": [\n          40.0,\n          54.0,\n          38.0\n        ],\n        \"semantic_type\": \"\",\n        \"description\": \"\"\n      }\n    },\n    {\n      \"column\": \"Renda\",\n      \"properties\": {\n        \"dtype\": \"number\",\n        \"std\": 14615.93645263632,\n        \"min\": 30000.0,\n        \"max\": 70000.0,\n        \"num_unique_values\": 4,\n        \"samples\": [\n          30000.0,\n          70000.0,\n          50000.0\n        ],\n        \"semantic_type\": \"\",\n        \"description\": \"\"\n      }\n    },\n    {\n      \"column\": \"Tempo_Site\",\n      \"properties\": {\n        \"dtype\": \"number\",\n        \"std\": 0.0,\n        \"min\": -1.0,\n        \"max\": -1.0,\n        \"num_unique_values\": 1,\n        \"samples\": [\n          -1.0\n        ],\n        \"semantic_type\": \"\",\n        \"description\": \"\"\n      }\n    },\n    {\n      \"column\": \"An\\u00fancio_Clicado\",\n      \"properties\": {\n        \"dtype\": \"category\",\n        \"num_unique_values\": 1,\n        \"samples\": [\n          \"Sim\"\n        ],\n        \"semantic_type\": \"\",\n        \"description\": \"\"\n      }\n    },\n    {\n      \"column\": \"Comprou\",\n      \"properties\": {\n        \"dtype\": \"number\",\n        \"std\": 0,\n        \"min\": 0,\n        \"max\": 1,\n        \"num_unique_values\": 2,\n        \"samples\": [\n          1\n        ],\n        \"semantic_type\": \"\",\n        \"description\": \"\"\n      }\n    }\n  ]\n}"
            }
          },
          "metadata": {},
          "execution_count": 140
        }
      ]
    },
    {
      "cell_type": "markdown",
      "source": [
        "Os valores negativos são todos -1. Provavelmente isso indica que não foi possível computar o tempo que o usuário permaneceu no site. Vamos substituir os valores -1 pela **média** de Tempo_Site."
      ],
      "metadata": {
        "id": "J-Djb2wdOrLt"
      }
    },
    {
      "cell_type": "code",
      "source": [
        "# Calcula a média de \"Tempo_Site\" descartando os valores -1\n",
        "media_tempo_site = dados[dados['Tempo_Site'] > 0]['Tempo_Site'].mean()\n",
        "\n",
        "# Atribui a média calculada nos usuários em que Tempo_Site == -1\n",
        "dados.loc[dados['Tempo_Site'] < 0, 'Tempo_Site'] = media_tempo_site\n",
        "\n",
        "# Checando se deu certo\n",
        "dados.iloc[[107, 116, 132, 133, 147]]"
      ],
      "metadata": {
        "colab": {
          "base_uri": "https://localhost:8080/",
          "height": 0
        },
        "id": "c6PvHVvBPQF9",
        "outputId": "fd0991ea-2c15-4dcb-e98a-1bff63802045"
      },
      "execution_count": 141,
      "outputs": [
        {
          "output_type": "execute_result",
          "data": {
            "text/plain": [
              "     Idade         Renda  Tempo_Site Anúncio_Clicado  Comprou\n",
              "107   38.0  50000.000000    17.81958             Sim        0\n",
              "116   40.0  30000.000000    17.81958             Sim        0\n",
              "132   38.0  50000.000000    17.81958             NaN        0\n",
              "133   20.0  58253.968254    17.81958             Sim        0\n",
              "147   54.0  70000.000000    17.81958             Sim        1"
            ],
            "text/html": [
              "\n",
              "  <div id=\"df-0485580c-84c0-4708-9726-fc0e6118c228\" class=\"colab-df-container\">\n",
              "    <div>\n",
              "<style scoped>\n",
              "    .dataframe tbody tr th:only-of-type {\n",
              "        vertical-align: middle;\n",
              "    }\n",
              "\n",
              "    .dataframe tbody tr th {\n",
              "        vertical-align: top;\n",
              "    }\n",
              "\n",
              "    .dataframe thead th {\n",
              "        text-align: right;\n",
              "    }\n",
              "</style>\n",
              "<table border=\"1\" class=\"dataframe\">\n",
              "  <thead>\n",
              "    <tr style=\"text-align: right;\">\n",
              "      <th></th>\n",
              "      <th>Idade</th>\n",
              "      <th>Renda</th>\n",
              "      <th>Tempo_Site</th>\n",
              "      <th>Anúncio_Clicado</th>\n",
              "      <th>Comprou</th>\n",
              "    </tr>\n",
              "  </thead>\n",
              "  <tbody>\n",
              "    <tr>\n",
              "      <th>107</th>\n",
              "      <td>38.0</td>\n",
              "      <td>50000.000000</td>\n",
              "      <td>17.81958</td>\n",
              "      <td>Sim</td>\n",
              "      <td>0</td>\n",
              "    </tr>\n",
              "    <tr>\n",
              "      <th>116</th>\n",
              "      <td>40.0</td>\n",
              "      <td>30000.000000</td>\n",
              "      <td>17.81958</td>\n",
              "      <td>Sim</td>\n",
              "      <td>0</td>\n",
              "    </tr>\n",
              "    <tr>\n",
              "      <th>132</th>\n",
              "      <td>38.0</td>\n",
              "      <td>50000.000000</td>\n",
              "      <td>17.81958</td>\n",
              "      <td>NaN</td>\n",
              "      <td>0</td>\n",
              "    </tr>\n",
              "    <tr>\n",
              "      <th>133</th>\n",
              "      <td>20.0</td>\n",
              "      <td>58253.968254</td>\n",
              "      <td>17.81958</td>\n",
              "      <td>Sim</td>\n",
              "      <td>0</td>\n",
              "    </tr>\n",
              "    <tr>\n",
              "      <th>147</th>\n",
              "      <td>54.0</td>\n",
              "      <td>70000.000000</td>\n",
              "      <td>17.81958</td>\n",
              "      <td>Sim</td>\n",
              "      <td>1</td>\n",
              "    </tr>\n",
              "  </tbody>\n",
              "</table>\n",
              "</div>\n",
              "    <div class=\"colab-df-buttons\">\n",
              "\n",
              "  <div class=\"colab-df-container\">\n",
              "    <button class=\"colab-df-convert\" onclick=\"convertToInteractive('df-0485580c-84c0-4708-9726-fc0e6118c228')\"\n",
              "            title=\"Convert this dataframe to an interactive table.\"\n",
              "            style=\"display:none;\">\n",
              "\n",
              "  <svg xmlns=\"http://www.w3.org/2000/svg\" height=\"24px\" viewBox=\"0 -960 960 960\">\n",
              "    <path d=\"M120-120v-720h720v720H120Zm60-500h600v-160H180v160Zm220 220h160v-160H400v160Zm0 220h160v-160H400v160ZM180-400h160v-160H180v160Zm440 0h160v-160H620v160ZM180-180h160v-160H180v160Zm440 0h160v-160H620v160Z\"/>\n",
              "  </svg>\n",
              "    </button>\n",
              "\n",
              "  <style>\n",
              "    .colab-df-container {\n",
              "      display:flex;\n",
              "      gap: 12px;\n",
              "    }\n",
              "\n",
              "    .colab-df-convert {\n",
              "      background-color: #E8F0FE;\n",
              "      border: none;\n",
              "      border-radius: 50%;\n",
              "      cursor: pointer;\n",
              "      display: none;\n",
              "      fill: #1967D2;\n",
              "      height: 32px;\n",
              "      padding: 0 0 0 0;\n",
              "      width: 32px;\n",
              "    }\n",
              "\n",
              "    .colab-df-convert:hover {\n",
              "      background-color: #E2EBFA;\n",
              "      box-shadow: 0px 1px 2px rgba(60, 64, 67, 0.3), 0px 1px 3px 1px rgba(60, 64, 67, 0.15);\n",
              "      fill: #174EA6;\n",
              "    }\n",
              "\n",
              "    .colab-df-buttons div {\n",
              "      margin-bottom: 4px;\n",
              "    }\n",
              "\n",
              "    [theme=dark] .colab-df-convert {\n",
              "      background-color: #3B4455;\n",
              "      fill: #D2E3FC;\n",
              "    }\n",
              "\n",
              "    [theme=dark] .colab-df-convert:hover {\n",
              "      background-color: #434B5C;\n",
              "      box-shadow: 0px 1px 3px 1px rgba(0, 0, 0, 0.15);\n",
              "      filter: drop-shadow(0px 1px 2px rgba(0, 0, 0, 0.3));\n",
              "      fill: #FFFFFF;\n",
              "    }\n",
              "  </style>\n",
              "\n",
              "    <script>\n",
              "      const buttonEl =\n",
              "        document.querySelector('#df-0485580c-84c0-4708-9726-fc0e6118c228 button.colab-df-convert');\n",
              "      buttonEl.style.display =\n",
              "        google.colab.kernel.accessAllowed ? 'block' : 'none';\n",
              "\n",
              "      async function convertToInteractive(key) {\n",
              "        const element = document.querySelector('#df-0485580c-84c0-4708-9726-fc0e6118c228');\n",
              "        const dataTable =\n",
              "          await google.colab.kernel.invokeFunction('convertToInteractive',\n",
              "                                                    [key], {});\n",
              "        if (!dataTable) return;\n",
              "\n",
              "        const docLinkHtml = 'Like what you see? Visit the ' +\n",
              "          '<a target=\"_blank\" href=https://colab.research.google.com/notebooks/data_table.ipynb>data table notebook</a>'\n",
              "          + ' to learn more about interactive tables.';\n",
              "        element.innerHTML = '';\n",
              "        dataTable['output_type'] = 'display_data';\n",
              "        await google.colab.output.renderOutput(dataTable, element);\n",
              "        const docLink = document.createElement('div');\n",
              "        docLink.innerHTML = docLinkHtml;\n",
              "        element.appendChild(docLink);\n",
              "      }\n",
              "    </script>\n",
              "  </div>\n",
              "\n",
              "\n",
              "<div id=\"df-0c0e5816-1f9f-48c1-9d07-60872be12677\">\n",
              "  <button class=\"colab-df-quickchart\" onclick=\"quickchart('df-0c0e5816-1f9f-48c1-9d07-60872be12677')\"\n",
              "            title=\"Suggest charts\"\n",
              "            style=\"display:none;\">\n",
              "\n",
              "<svg xmlns=\"http://www.w3.org/2000/svg\" height=\"24px\"viewBox=\"0 0 24 24\"\n",
              "     width=\"24px\">\n",
              "    <g>\n",
              "        <path d=\"M19 3H5c-1.1 0-2 .9-2 2v14c0 1.1.9 2 2 2h14c1.1 0 2-.9 2-2V5c0-1.1-.9-2-2-2zM9 17H7v-7h2v7zm4 0h-2V7h2v10zm4 0h-2v-4h2v4z\"/>\n",
              "    </g>\n",
              "</svg>\n",
              "  </button>\n",
              "\n",
              "<style>\n",
              "  .colab-df-quickchart {\n",
              "      --bg-color: #E8F0FE;\n",
              "      --fill-color: #1967D2;\n",
              "      --hover-bg-color: #E2EBFA;\n",
              "      --hover-fill-color: #174EA6;\n",
              "      --disabled-fill-color: #AAA;\n",
              "      --disabled-bg-color: #DDD;\n",
              "  }\n",
              "\n",
              "  [theme=dark] .colab-df-quickchart {\n",
              "      --bg-color: #3B4455;\n",
              "      --fill-color: #D2E3FC;\n",
              "      --hover-bg-color: #434B5C;\n",
              "      --hover-fill-color: #FFFFFF;\n",
              "      --disabled-bg-color: #3B4455;\n",
              "      --disabled-fill-color: #666;\n",
              "  }\n",
              "\n",
              "  .colab-df-quickchart {\n",
              "    background-color: var(--bg-color);\n",
              "    border: none;\n",
              "    border-radius: 50%;\n",
              "    cursor: pointer;\n",
              "    display: none;\n",
              "    fill: var(--fill-color);\n",
              "    height: 32px;\n",
              "    padding: 0;\n",
              "    width: 32px;\n",
              "  }\n",
              "\n",
              "  .colab-df-quickchart:hover {\n",
              "    background-color: var(--hover-bg-color);\n",
              "    box-shadow: 0 1px 2px rgba(60, 64, 67, 0.3), 0 1px 3px 1px rgba(60, 64, 67, 0.15);\n",
              "    fill: var(--button-hover-fill-color);\n",
              "  }\n",
              "\n",
              "  .colab-df-quickchart-complete:disabled,\n",
              "  .colab-df-quickchart-complete:disabled:hover {\n",
              "    background-color: var(--disabled-bg-color);\n",
              "    fill: var(--disabled-fill-color);\n",
              "    box-shadow: none;\n",
              "  }\n",
              "\n",
              "  .colab-df-spinner {\n",
              "    border: 2px solid var(--fill-color);\n",
              "    border-color: transparent;\n",
              "    border-bottom-color: var(--fill-color);\n",
              "    animation:\n",
              "      spin 1s steps(1) infinite;\n",
              "  }\n",
              "\n",
              "  @keyframes spin {\n",
              "    0% {\n",
              "      border-color: transparent;\n",
              "      border-bottom-color: var(--fill-color);\n",
              "      border-left-color: var(--fill-color);\n",
              "    }\n",
              "    20% {\n",
              "      border-color: transparent;\n",
              "      border-left-color: var(--fill-color);\n",
              "      border-top-color: var(--fill-color);\n",
              "    }\n",
              "    30% {\n",
              "      border-color: transparent;\n",
              "      border-left-color: var(--fill-color);\n",
              "      border-top-color: var(--fill-color);\n",
              "      border-right-color: var(--fill-color);\n",
              "    }\n",
              "    40% {\n",
              "      border-color: transparent;\n",
              "      border-right-color: var(--fill-color);\n",
              "      border-top-color: var(--fill-color);\n",
              "    }\n",
              "    60% {\n",
              "      border-color: transparent;\n",
              "      border-right-color: var(--fill-color);\n",
              "    }\n",
              "    80% {\n",
              "      border-color: transparent;\n",
              "      border-right-color: var(--fill-color);\n",
              "      border-bottom-color: var(--fill-color);\n",
              "    }\n",
              "    90% {\n",
              "      border-color: transparent;\n",
              "      border-bottom-color: var(--fill-color);\n",
              "    }\n",
              "  }\n",
              "</style>\n",
              "\n",
              "  <script>\n",
              "    async function quickchart(key) {\n",
              "      const quickchartButtonEl =\n",
              "        document.querySelector('#' + key + ' button');\n",
              "      quickchartButtonEl.disabled = true;  // To prevent multiple clicks.\n",
              "      quickchartButtonEl.classList.add('colab-df-spinner');\n",
              "      try {\n",
              "        const charts = await google.colab.kernel.invokeFunction(\n",
              "            'suggestCharts', [key], {});\n",
              "      } catch (error) {\n",
              "        console.error('Error during call to suggestCharts:', error);\n",
              "      }\n",
              "      quickchartButtonEl.classList.remove('colab-df-spinner');\n",
              "      quickchartButtonEl.classList.add('colab-df-quickchart-complete');\n",
              "    }\n",
              "    (() => {\n",
              "      let quickchartButtonEl =\n",
              "        document.querySelector('#df-0c0e5816-1f9f-48c1-9d07-60872be12677 button');\n",
              "      quickchartButtonEl.style.display =\n",
              "        google.colab.kernel.accessAllowed ? 'block' : 'none';\n",
              "    })();\n",
              "  </script>\n",
              "</div>\n",
              "\n",
              "    </div>\n",
              "  </div>\n"
            ],
            "application/vnd.google.colaboratory.intrinsic+json": {
              "type": "dataframe",
              "summary": "{\n  \"name\": \"dados\",\n  \"rows\": 5,\n  \"fields\": [\n    {\n      \"column\": \"Idade\",\n      \"properties\": {\n        \"dtype\": \"number\",\n        \"std\": 12.083045973594572,\n        \"min\": 20.0,\n        \"max\": 54.0,\n        \"num_unique_values\": 4,\n        \"samples\": [\n          40.0,\n          54.0,\n          38.0\n        ],\n        \"semantic_type\": \"\",\n        \"description\": \"\"\n      }\n    },\n    {\n      \"column\": \"Renda\",\n      \"properties\": {\n        \"dtype\": \"number\",\n        \"std\": 14615.93645263632,\n        \"min\": 30000.0,\n        \"max\": 70000.0,\n        \"num_unique_values\": 4,\n        \"samples\": [\n          30000.0,\n          70000.0,\n          50000.0\n        ],\n        \"semantic_type\": \"\",\n        \"description\": \"\"\n      }\n    },\n    {\n      \"column\": \"Tempo_Site\",\n      \"properties\": {\n        \"dtype\": \"number\",\n        \"std\": 0.0,\n        \"min\": 17.819579893464518,\n        \"max\": 17.819579893464518,\n        \"num_unique_values\": 1,\n        \"samples\": [\n          17.819579893464518\n        ],\n        \"semantic_type\": \"\",\n        \"description\": \"\"\n      }\n    },\n    {\n      \"column\": \"An\\u00fancio_Clicado\",\n      \"properties\": {\n        \"dtype\": \"category\",\n        \"num_unique_values\": 1,\n        \"samples\": [\n          \"Sim\"\n        ],\n        \"semantic_type\": \"\",\n        \"description\": \"\"\n      }\n    },\n    {\n      \"column\": \"Comprou\",\n      \"properties\": {\n        \"dtype\": \"number\",\n        \"std\": 0,\n        \"min\": 0,\n        \"max\": 1,\n        \"num_unique_values\": 2,\n        \"samples\": [\n          1\n        ],\n        \"semantic_type\": \"\",\n        \"description\": \"\"\n      }\n    }\n  ]\n}"
            }
          },
          "metadata": {},
          "execution_count": 141
        }
      ]
    },
    {
      "cell_type": "markdown",
      "source": [
        "## Anúncio clicado"
      ],
      "metadata": {
        "id": "y8KM6ALDUadc"
      }
    },
    {
      "cell_type": "markdown",
      "source": [
        "Conforme visto pelo método \"info\", existem 10 valores nulos para a variável \"Anúncio_clicado\". Por se tratar de uma variável binária, uma alternativa para corrigir os valores nulos seria substituí-los pela moda da coluna, desde que haja uma distribuição muito desigual entre os dois valores."
      ],
      "metadata": {
        "id": "yYH8qKlBVfP-"
      }
    },
    {
      "cell_type": "code",
      "source": [
        "# Distribuição de \"Anúncio_Clicado\"\n",
        "ax = sns.countplot(data=dados, x='Anúncio_Clicado', hue='Anúncio_Clicado', palette='viridis', legend=False)\n",
        "ax.get_yaxis().set_visible(False)\n",
        "for container in ax.containers:\n",
        "    ax.bar_label(container)\n",
        "plt.title('Distribuição da variável \"Anúncio_Clicado\"')\n",
        "plt.show()"
      ],
      "metadata": {
        "colab": {
          "base_uri": "https://localhost:8080/",
          "height": 0
        },
        "id": "hOB9iqXwK9JH",
        "outputId": "e24d1f23-018a-40f9-fdc9-bdaf4d8b13fb"
      },
      "execution_count": 142,
      "outputs": [
        {
          "output_type": "display_data",
          "data": {
            "text/plain": [
              "<Figure size 640x480 with 1 Axes>"
            ],
            "image/png": "[encoded data removed]"
          },
          "metadata": {}
        }
      ]
    },
    {
      "cell_type": "markdown",
      "source": [
        "O gráfico mostra que não há uma distribuição tão desigual assim para simplesmente atribuirmos \"Sim\" aos valores faltantes. Portanto, optamos por remover os usuários em que \"Anúncio_clicado\" for nulo.\n",
        "\n",
        "Além disso, devemos mapear os textos (Sim/Não) para valores numéricos (1/0), que são úteis para o modelo."
      ],
      "metadata": {
        "id": "WwmemvDWbBEz"
      }
    },
    {
      "cell_type": "code",
      "source": [
        "# Remove usuários em que 'Anúncio_Clicado' == NULL\n",
        "dados.dropna(subset=['Anúncio_Clicado'], inplace=True)\n",
        "\n",
        "# Conversão Sim/Não -> 1/0\n",
        "dados['Anúncio_Clicado'] = dados['Anúncio_Clicado'].map(lambda x: 1 if x == 'Sim' else 0)"
      ],
      "metadata": {
        "id": "ri_3wEXqWovv"
      },
      "execution_count": 143,
      "outputs": []
    },
    {
      "cell_type": "markdown",
      "source": [
        "## Colunas redundantes"
      ],
      "metadata": {
        "id": "fZOKRvvPlM7S"
      }
    },
    {
      "cell_type": "markdown",
      "source": [
        "Existe a possibilidade de duas ou mais variáveis possuírem uma correlação forte entre si. Por exemplo, é possível que neste dataset quanto maior a idade do usuário, maior a sua renda anual, tratando-se de uma correlação forte e positiva. Isso faz com que uma das variáveis (Idade ou Renda) se torne irrelevante para o modelo, devendo ser descartada.\n",
        "\n",
        "Para avaliar a correlação entre duas variáveis contínuas, é utilizada a correlação de Pearson. Já para avaliar a correlação entre uma variável contínua e outra binária, é utilizada a correlação ponto-bisseral, que nada mais é do que uma variação da correlação de Pearson."
      ],
      "metadata": {
        "id": "fss0kPQ8nGyo"
      }
    },
    {
      "cell_type": "code",
      "source": [
        "# Matriz de correlação\n",
        "corr_matrix = dados.corr()\n",
        "sns.heatmap(corr_matrix, annot=True, cmap='coolwarm')\n",
        "plt.title('Matriz de Correlação')\n",
        "plt.show()"
      ],
      "metadata": {
        "id": "qGhYN0pRj0bc",
        "colab": {
          "base_uri": "https://localhost:8080/",
          "height": 0
        },
        "outputId": "1a52f3f8-1b28-4f41-b89c-823611e01277"
      },
      "execution_count": 144,
      "outputs": [
        {
          "output_type": "display_data",
          "data": {
            "text/plain": [
              "<Figure size 640x480 with 2 Axes>"
            ],
            "image/png": "[encoded data removed]"
          },
          "metadata": {}
        }
      ]
    },
    {
      "cell_type": "markdown",
      "source": [
        "A matriz de correlação mostra que nenhum par de variáveis possui correlação forte entre si. Sendo asssim, manteremos todas variáveis no dataset."
      ],
      "metadata": {
        "id": "swDf7s6nDYnG"
      }
    },
    {
      "cell_type": "markdown",
      "source": [
        "## Dataset pronto"
      ],
      "metadata": {
        "id": "7yf1x4xIFPWf"
      }
    },
    {
      "cell_type": "code",
      "source": [
        "dados.to_csv('Dataset_Limpo.csv', index=False)\n",
        "\n",
        "dados.info()"
      ],
      "metadata": {
        "colab": {
          "base_uri": "https://localhost:8080/"
        },
        "id": "k2aJTyVtFRXa",
        "outputId": "9ab4b2fb-cf10-4c58-bfb8-6eaeeb1c69c3"
      },
      "execution_count": 145,
      "outputs": [
        {
          "output_type": "stream",
          "name": "stdout",
          "text": [
            "<class 'pandas.core.frame.DataFrame'>\n",
            "Index: 190 entries, 0 to 199\n",
            "Data columns (total 5 columns):\n",
            " #   Column           Non-Null Count  Dtype  \n",
            "---  ------           --------------  -----  \n",
            " 0   Idade            190 non-null    float64\n",
            " 1   Renda            190 non-null    float64\n",
            " 2   Tempo_Site       190 non-null    float64\n",
            " 3   Anúncio_Clicado  190 non-null    int64  \n",
            " 4   Comprou          190 non-null    int64  \n",
            "dtypes: float64(3), int64(2)\n",
            "memory usage: 8.9 KB\n"
          ]
        }
      ]
    },
    {
      "cell_type": "markdown",
      "source": [
        "## Conjuntos de treino e teste"
      ],
      "metadata": {
        "id": "zNeHxLTzEEvI"
      }
    },
    {
      "cell_type": "markdown",
      "source": [
        "Para treinamento e teste dos nossos modelos, iremos separar 70% das amostras para o conjunto de treino e o restante (30%) para o conjunto de teste."
      ],
      "metadata": {
        "id": "g-5Mm278EOqK"
      }
    },
    {
      "cell_type": "code",
      "source": [
        "# Separando variáveis preditoras (X) e alvo (y)\n",
        "X = dados.drop(columns=['Comprou'])\n",
        "y = dados['Comprou']\n",
        "\n",
        "# Dividindo os dados em conjuntos de treino (70%) e teste (30%)\n",
        "'''Note que devemos usar o parâmetro stratify=y devido ao desbalanceamento das classes\n",
        "na variável 'Comprou'. Graças a este parâmetro, podemos manter a mesma proporção de 1/0\n",
        "tanto no conjunto de treino quanto no conjunto de teste.'''\n",
        "X_train, X_test, y_train, y_test = train_test_split(X, y, test_size=0.3, random_state=42, stratify=y)"
      ],
      "metadata": {
        "id": "BkUy9oHDCqWH"
      },
      "execution_count": 146,
      "outputs": []
    },
    {
      "cell_type": "markdown",
      "source": [
        "# **Regressão Logística**"
      ],
      "metadata": {
        "id": "7XEO6h9KS07M"
      }
    },
    {
      "cell_type": "markdown",
      "source": [
        "A regressão logística é um método popular para prever uma resposta categórica. É um caso especial de modelos Lineares Generalizados que prevê a probabilidade dos resultados. A regressão logística pode ser usada para prever um resultado binário usando regressão logística binomial ou pode ser usada para prever um resultado multiclasse usando regressão logística multinomial.\n",
        "\n",
        "<font size=2>**Fonte:** [Medium](https://medium.com/@nara.guimaraes/regress%C3%A3o-log%C3%ADstica-como-usu%C3%A1-la-em-an%C3%A1lise-de-dados-3fdb6be3a255)</font>"
      ],
      "metadata": {
        "id": "LKmn3zD8W8G9"
      }
    },
    {
      "cell_type": "code",
      "source": [
        "# Criando e treinando o modelo de regressão logística\n",
        "lr = LogisticRegression(max_iter=1000, random_state=42)\n",
        "lr.fit(X_train, y_train)\n",
        "\n",
        "# Realizando predições no conjunto de teste\n",
        "y_pred = lr.predict(X_test)\n",
        "\n",
        "# Avaliando o modelo\n",
        "accuracy = accuracy_score(y_test, y_pred)\n",
        "report = classification_report(y_test, y_pred)\n",
        "\n",
        "print(f\"Acurácia: {accuracy:.4f}\")\n",
        "print(\"Relatório de Classificação:\")\n",
        "print(report)"
      ],
      "metadata": {
        "colab": {
          "base_uri": "https://localhost:8080/"
        },
        "id": "TPlM6PAyS4hs",
        "outputId": "ab00c384-bdd8-478b-975f-1899c06d65a2"
      },
      "execution_count": 147,
      "outputs": [
        {
          "output_type": "stream",
          "name": "stdout",
          "text": [
            "Acurácia: 0.6667\n",
            "Relatório de Classificação:\n",
            "              precision    recall  f1-score   support\n",
            "\n",
            "           0       0.69      0.95      0.80        39\n",
            "           1       0.33      0.06      0.10        18\n",
            "\n",
            "    accuracy                           0.67        57\n",
            "   macro avg       0.51      0.50      0.45        57\n",
            "weighted avg       0.57      0.67      0.57        57\n",
            "\n"
          ]
        }
      ]
    },
    {
      "cell_type": "markdown",
      "source": [
        "Uma métrica muito importante neste problema é a quantidade de falsos-negativos, ou seja, a quantidade de usuários que pretendem comprar uma casa mas que o modelo previu que não vão comprar. Para este problema, queremos encontar um modelo em que este valor seja o menor possível.\n",
        "\n",
        "Na prática, buscamos um modelo com a maior proporção de verdadeiros-positivos (recall da classe 1), pois isso significa que a taxa de falsos-negativos é menor."
      ],
      "metadata": {
        "id": "wUAEqk2MXWpX"
      }
    },
    {
      "cell_type": "code",
      "source": [
        "# Armazena o recall da classe 1 para cada modelo\n",
        "recall_c1 = []\n",
        "\n",
        "# Armazena a influencia que cada feature exerce em cada modelo\n",
        "influencia_features = pd.DataFrame(columns=['Modelo', 'Idade', 'Renda', 'Tempo_Site', 'Anúncio_Clicado'])"
      ],
      "metadata": {
        "id": "vHBSAqNt_h57"
      },
      "execution_count": 148,
      "outputs": []
    },
    {
      "cell_type": "code",
      "source": [
        "# Facilita a leitura da matriz de confusão e retorna o recall da classe 1\n",
        "def matriz_de_confusao(y_test, y_pred):\n",
        "  m = confusion_matrix(y_test, y_pred)\n",
        "  print(' '*27, 'Previsto')\n",
        "  print(' '*18, 'Não-Comprou', ' '*5 ,'Comprou')\n",
        "  print(' '*4, 'Não-Comprou', ' '*6, f\"{int(m[0][0]):2d}\", ' '*12, f\"{int(m[0][1]):2d}\")\n",
        "  print('Real')\n",
        "  print(' '*8, 'Comprou', ' '*6, f\"{int(m[1][0]):2d}\", ' '*12, f\"{int(m[1][1]):2d}\")\n",
        "\n",
        "  recall_c1 = m[1][1]/(m[1][0] + m[1][1])\n",
        "  return recall_c1"
      ],
      "metadata": {
        "id": "6hsuzLg9Xhwy"
      },
      "execution_count": 149,
      "outputs": []
    },
    {
      "cell_type": "code",
      "source": [
        "# Armazena a influencia de cada feature na Regressão Logística\n",
        "influencia_features.loc[len(influencia_features)] = ['0 - Regressão Logística'] + list(lr.coef_[0])\n",
        "\n",
        "# Matriz de confusão para a Regressão Logística\n",
        "recall_c1.append(matriz_de_confusao(y_test, y_pred))"
      ],
      "metadata": {
        "colab": {
          "base_uri": "https://localhost:8080/"
        },
        "id": "eQXnHEmgXlfK",
        "outputId": "d7a3261d-03cb-48ca-9c56-1cc91f51d31c"
      },
      "execution_count": 150,
      "outputs": [
        {
          "output_type": "stream",
          "name": "stdout",
          "text": [
            "                            Previsto\n",
            "                   Não-Comprou       Comprou\n",
            "     Não-Comprou        37               2\n",
            "Real\n",
            "         Comprou        17               1\n"
          ]
        }
      ]
    },
    {
      "cell_type": "markdown",
      "source": [
        "Para este modelo, dos 18 usuários do conjunto de teste que compraram uma casa, o modelo previu corretamente apenas 1 deles, resultando em um recall de 6%."
      ],
      "metadata": {
        "id": "DDR2keZ-5pMX"
      }
    },
    {
      "cell_type": "markdown",
      "source": [
        "# **Árvore de Decisão**"
      ],
      "metadata": {
        "id": "1PqnwsBLpLA7"
      }
    },
    {
      "cell_type": "markdown",
      "source": [
        "Uma árvore de decisão é uma estrutura gráfica hierárquica que lhe ajuda a examinar atentamente e a classificar precisamente um modelo. O conceito de árvore de decisão é selecionar splits que diminuem a impureza da distribuição de classes nos subconjuntos de instâncias resultantes.\n",
        "\n",
        "<font size=2>**Fonte:** [IBM](https://www.ibm.com/docs/pt-br/db2/12.1?topic=building-decision-trees)</font>"
      ],
      "metadata": {
        "id": "fC5_jkhOpWpB"
      }
    },
    {
      "cell_type": "code",
      "source": [
        "# Cria e treina a árvore de decisão\n",
        "dt = DecisionTreeClassifier(random_state=42)\n",
        "dt.fit(X_train, y_train)\n",
        "\n",
        "# Fazer previsões no conjunto de teste\n",
        "y_pred = dt.predict(X_test)\n",
        "\n",
        "# Avaliar o modelo\n",
        "accuracy = accuracy_score(y_test, y_pred)\n",
        "report = classification_report(y_test, y_pred)\n",
        "\n",
        "print(f\"Acurácia: {accuracy:.4f}\")\n",
        "print(\"Relatório de Classificação:\")\n",
        "print(report)"
      ],
      "metadata": {
        "colab": {
          "base_uri": "https://localhost:8080/"
        },
        "id": "VpzUMDrKetvB",
        "outputId": "015082e0-ec51-4c3b-885e-af50b2ca9e94"
      },
      "execution_count": 151,
      "outputs": [
        {
          "output_type": "stream",
          "name": "stdout",
          "text": [
            "Acurácia: 0.5965\n",
            "Relatório de Classificação:\n",
            "              precision    recall  f1-score   support\n",
            "\n",
            "           0       0.77      0.59      0.67        39\n",
            "           1       0.41      0.61      0.49        18\n",
            "\n",
            "    accuracy                           0.60        57\n",
            "   macro avg       0.59      0.60      0.58        57\n",
            "weighted avg       0.65      0.60      0.61        57\n",
            "\n"
          ]
        }
      ]
    },
    {
      "cell_type": "code",
      "source": [
        "# Armazena a influencia de cada feature na Árvore de Decisão\n",
        "influencia_features.loc[len(influencia_features)] = ['2 - Árvore de Decisão'] + list(dt.feature_importances_)\n",
        "\n",
        "# Matriz de confusão para a Árvore de Decisão\n",
        "recall_c1.append(matriz_de_confusao(y_test, y_pred))"
      ],
      "metadata": {
        "colab": {
          "base_uri": "https://localhost:8080/"
        },
        "id": "n5DY3kEFpno2",
        "outputId": "854f7633-2bd7-4544-c46a-4f2037d438bd"
      },
      "execution_count": 152,
      "outputs": [
        {
          "output_type": "stream",
          "name": "stdout",
          "text": [
            "                            Previsto\n",
            "                   Não-Comprou       Comprou\n",
            "     Não-Comprou        23              16\n",
            "Real\n",
            "         Comprou         7              11\n"
          ]
        }
      ]
    },
    {
      "cell_type": "markdown",
      "source": [
        "Para este modelo, dos 18 usuários do conjunto de teste que compraram uma casa, o modelo previu corretamente 11 deles, resultando em um recall 61%."
      ],
      "metadata": {
        "id": "N-5vjSMZ58E6"
      }
    },
    {
      "cell_type": "markdown",
      "source": [
        "# **Random Forest**"
      ],
      "metadata": {
        "id": "bpTu_zpdqB13"
      }
    },
    {
      "cell_type": "markdown",
      "source": [
        "O Random Forest nada mais é do que a criação de várias árvores de decisão, de maneira aleatória, formando o que podemos enxergar como uma floresta, onde cada árvore será utilizada na escolha do resultado final, em uma espécie de votação.\n",
        "\n",
        "Com o modelo de machine learning devidamente criado, podemos apresentar novos dados e obter o resultado da previsão. Cada árvore criada irá apresentar o seu resultado, sendo que em problemas de regressão será realizada a média dos valores previstos, e esta média informada como resultado final, e em problemas de classificação o resultado que mais vezes foi apresentado será o escolhido.\n",
        "\n",
        "<font size=2>**Fonte:** [Didática Tech](https://didatica.tech/o-que-e-e-como-funciona-o-algoritmo-randomforest/)</font>"
      ],
      "metadata": {
        "id": "gBuBJgTeqEeI"
      }
    },
    {
      "cell_type": "code",
      "source": [
        "# Cria e treina o modelo\n",
        "rf = RandomForestClassifier(random_state=42)\n",
        "rf.fit(X_train, y_train)\n",
        "\n",
        "# Fazer previsões no conjunto de teste\n",
        "y_pred = rf.predict(X_test)\n",
        "\n",
        "# Avaliar o modelo\n",
        "accuracy = accuracy_score(y_test, y_pred)\n",
        "report = classification_report(y_test, y_pred)\n",
        "\n",
        "print(f\"Acurácia: {accuracy:.4f}\")\n",
        "print(\"Relatório de Classificação:\")\n",
        "print(report)"
      ],
      "metadata": {
        "colab": {
          "base_uri": "https://localhost:8080/"
        },
        "id": "2CCmMBQMqD61",
        "outputId": "e1132eda-6f09-4c1c-b0d4-c3db0b0a7c78"
      },
      "execution_count": 153,
      "outputs": [
        {
          "output_type": "stream",
          "name": "stdout",
          "text": [
            "Acurácia: 0.5439\n",
            "Relatório de Classificação:\n",
            "              precision    recall  f1-score   support\n",
            "\n",
            "           0       0.66      0.69      0.68        39\n",
            "           1       0.25      0.22      0.24        18\n",
            "\n",
            "    accuracy                           0.54        57\n",
            "   macro avg       0.45      0.46      0.46        57\n",
            "weighted avg       0.53      0.54      0.54        57\n",
            "\n"
          ]
        }
      ]
    },
    {
      "cell_type": "code",
      "source": [
        "# Armazena a influencia de cada feature no Random Forest\n",
        "influencia_features.loc[len(influencia_features)] = ['4 - Random Forest'] + list(rf.feature_importances_)\n",
        "\n",
        "# Matriz de confusão para o Random Forest\n",
        "recall_c1.append(matriz_de_confusao(y_test, y_pred))"
      ],
      "metadata": {
        "colab": {
          "base_uri": "https://localhost:8080/"
        },
        "id": "jpzuMHDPrCs2",
        "outputId": "6b11772b-2dc6-446c-dc7f-fb409d0be405"
      },
      "execution_count": 154,
      "outputs": [
        {
          "output_type": "stream",
          "name": "stdout",
          "text": [
            "                            Previsto\n",
            "                   Não-Comprou       Comprou\n",
            "     Não-Comprou        27              12\n",
            "Real\n",
            "         Comprou        14               4\n"
          ]
        }
      ]
    },
    {
      "cell_type": "markdown",
      "source": [
        "Para este modelo, dos 18 usuários do conjunto de teste que compraram uma casa, o modelo previu corretamente apenas 4 deles, resultando em um recall 22%."
      ],
      "metadata": {
        "id": "VzVfwafH6HK6"
      }
    },
    {
      "cell_type": "markdown",
      "source": [
        "# **Otimização**"
      ],
      "metadata": {
        "id": "0CPGNw4erHNn"
      }
    },
    {
      "cell_type": "markdown",
      "source": [
        "Uma tarefa importante em modelagens de machine learning é a melhoria do modelo através da otimização dos seus hiperparâmetros. Neste problema, iremos utilizar a técnica Grid Search, que consiste em encontrar o melhor modelo possível após testar a combinação de todos os valores de hiperparâmetros que é fornecido.\n",
        "\n",
        "Além disso, iremos aplicar a técnica de Cross Validation, que consiste em dividir o conjunto de treino em k dobras (folds) e fazer k iterações neste conjunto. A cada iteração, um dos folds é separado dos demais e será utilizado para validação dos parâmetros. Ao final das iterações, os melhores parâmetros são selecionados e o modelo pode ser avaliado com o conjunto de teste."
      ],
      "metadata": {
        "id": "xRDcGd24zyiD"
      }
    },
    {
      "cell_type": "markdown",
      "source": [
        " <img src=\"https://raw.githubusercontent.com/yurifernandes96/churn_prediction/refs/heads/main/imgs/grid_search_cross_validation.png\">"
      ],
      "metadata": {
        "id": "_sOQTfK7z6Nv"
      }
    },
    {
      "cell_type": "markdown",
      "source": [
        "## **Regressão Logística Otimizada**"
      ],
      "metadata": {
        "id": "Fvss06Rlx4l9"
      }
    },
    {
      "cell_type": "code",
      "source": [
        "# Criando e treinando o modelo de regressão logística\n",
        "lr_cv = LogisticRegression(max_iter=1000, random_state=42)\n",
        "lr_cv.fit(X_train, y_train)\n",
        "\n",
        "# Definição do espaço de hiperparâmetros para otimização\n",
        "param_grid = {\n",
        "    'penalty': ['l1', 'l2'],\n",
        "    'C': [0.1, 1, 10],\n",
        "    'solver': ['liblinear'], # solver adequado para datasets pequenos\n",
        "    'class_weight': [None, 'balanced']\n",
        "}\n",
        "\n",
        "# Configuração do Grid Search com validação cruzada (3 folds)\n",
        "grid_search = GridSearchCV(\n",
        "    estimator=lr_cv,\n",
        "    param_grid=param_grid,\n",
        "    scoring='recall',\n",
        "    cv=3,  # Número de folds\n",
        ")\n",
        "\n",
        "# Treinando o modelo com o conjunto de treino\n",
        "grid_search.fit(X_train, y_train)\n",
        "\n",
        "# Melhor modelo encontrado\n",
        "best_model = grid_search.best_estimator_\n",
        "\n",
        "# Avaliando no conjunto de teste\n",
        "y_pred = best_model.predict(X_test)\n",
        "\n",
        "# Avaliando o modelo\n",
        "accuracy = accuracy_score(y_test, y_pred)\n",
        "report = classification_report(y_test, y_pred)\n",
        "\n",
        "print(f\"Acurácia: {accuracy:.4f}\")\n",
        "print(\"Relatório de Classificação:\")\n",
        "print(report)"
      ],
      "metadata": {
        "colab": {
          "base_uri": "https://localhost:8080/"
        },
        "id": "Hcc2e-QmyE6C",
        "outputId": "202d0b53-3ab3-45b6-fe6f-882796d5b7a2"
      },
      "execution_count": 155,
      "outputs": [
        {
          "output_type": "stream",
          "name": "stdout",
          "text": [
            "Acurácia: 0.4561\n",
            "Relatório de Classificação:\n",
            "              precision    recall  f1-score   support\n",
            "\n",
            "           0       0.75      0.31      0.44        39\n",
            "           1       0.34      0.78      0.47        18\n",
            "\n",
            "    accuracy                           0.46        57\n",
            "   macro avg       0.55      0.54      0.46        57\n",
            "weighted avg       0.62      0.46      0.45        57\n",
            "\n"
          ]
        }
      ]
    },
    {
      "cell_type": "code",
      "source": [
        "# Armazena a influencia de cada feature na Regressão Logística Otimizada\n",
        "influencia_features.loc[len(influencia_features)] = ['1 - Regressão Logística Otimizada'] + list(best_model.coef_[0])\n",
        "\n",
        "# Matriz de confusão para Regressão Logística Otimizada\n",
        "recall_c1.append(matriz_de_confusao(y_test, y_pred))"
      ],
      "metadata": {
        "colab": {
          "base_uri": "https://localhost:8080/"
        },
        "id": "opwudELSy8jX",
        "outputId": "cc6519fb-1e59-4ec2-8c03-9c4f9a092b6b"
      },
      "execution_count": 156,
      "outputs": [
        {
          "output_type": "stream",
          "name": "stdout",
          "text": [
            "                            Previsto\n",
            "                   Não-Comprou       Comprou\n",
            "     Não-Comprou        12              27\n",
            "Real\n",
            "         Comprou         4              14\n"
          ]
        }
      ]
    },
    {
      "cell_type": "markdown",
      "source": [
        "Para este modelo, dos 18 usuários do conjunto de teste que compraram uma casa, o modelo previu corretamente 14 deles, resultando em um recall 78%.\n",
        "\n",
        "Ainda que o número de compradores inexistentes (falsos-positivos) tenha aumentado, pode-se considerar que o modelo teve uma melhora significativa, se, por exemplo, o objetivo do site é realizar uma campanha de marketing para compradores potenciais. Parte dos usuários alvo dessa campanha acabará sendo usuários não-compradores, mas o modelo garante que a maioria dos usuários compradores serão atingidos pela campanha."
      ],
      "metadata": {
        "id": "IKrtQBiP6llN"
      }
    },
    {
      "cell_type": "markdown",
      "source": [
        "## **Árvore de Decisão Otimizada**"
      ],
      "metadata": {
        "id": "xKeO_3MGx9IH"
      }
    },
    {
      "cell_type": "code",
      "source": [
        "# Definição do modelo de Decision Tree\n",
        "dt_cv = DecisionTreeClassifier(random_state=42)\n",
        "\n",
        "# Definição do espaço de hiperparâmetros para otimização\n",
        "param_grid = {\n",
        "    'max_depth': [2, 3, 5],\n",
        "    'max_features': [2, 3, 4],\n",
        "    'class_weight': [None, 'balanced']\n",
        "}\n",
        "\n",
        "# Configuração do Grid Search com validação cruzada (3 folds)\n",
        "grid_search = GridSearchCV(\n",
        "    estimator=dt_cv,\n",
        "    param_grid=param_grid,\n",
        "    scoring='recall',\n",
        "    cv=3,  # Número de folds\n",
        ")\n",
        "\n",
        "# Treinando o modelo com o conjunto de treino\n",
        "grid_search.fit(X_train, y_train)\n",
        "\n",
        "# Melhor modelo encontrado\n",
        "best_model = grid_search.best_estimator_\n",
        "\n",
        "# Avaliando no conjunto de teste\n",
        "y_pred = best_model.predict(X_test)\n",
        "\n",
        "# Avaliar o modelo\n",
        "accuracy = accuracy_score(y_test, y_pred)\n",
        "report = classification_report(y_test, y_pred)\n",
        "\n",
        "print(f\"Acurácia: {accuracy:.4f}\")\n",
        "print(\"Relatório de Classificação:\")\n",
        "print(report)"
      ],
      "metadata": {
        "colab": {
          "base_uri": "https://localhost:8080/"
        },
        "id": "PIPHIefBrFc9",
        "outputId": "02334e04-0a53-4a24-f377-b9f335b5fda7"
      },
      "execution_count": 157,
      "outputs": [
        {
          "output_type": "stream",
          "name": "stdout",
          "text": [
            "Acurácia: 0.4912\n",
            "Relatório de Classificação:\n",
            "              precision    recall  f1-score   support\n",
            "\n",
            "           0       0.86      0.31      0.45        39\n",
            "           1       0.37      0.89      0.52        18\n",
            "\n",
            "    accuracy                           0.49        57\n",
            "   macro avg       0.61      0.60      0.49        57\n",
            "weighted avg       0.70      0.49      0.48        57\n",
            "\n"
          ]
        }
      ]
    },
    {
      "cell_type": "code",
      "source": [
        "# Armazena a influencia de cada feature na Árvore de Decisão Otimizada\n",
        "influencia_features.loc[len(influencia_features)] = ['3 - Árvore de Decisão Otimizada'] + list(best_model.feature_importances_)\n",
        "\n",
        "# Matriz de confusão para Árvore de Decisão Otimizada\n",
        "recall_c1.append(matriz_de_confusao(y_test, y_pred))"
      ],
      "metadata": {
        "colab": {
          "base_uri": "https://localhost:8080/"
        },
        "id": "bzgkZZfsxIT2",
        "outputId": "8c87a020-b894-4392-fa69-2b28bfabc692"
      },
      "execution_count": 158,
      "outputs": [
        {
          "output_type": "stream",
          "name": "stdout",
          "text": [
            "                            Previsto\n",
            "                   Não-Comprou       Comprou\n",
            "     Não-Comprou        12              27\n",
            "Real\n",
            "         Comprou         2              16\n"
          ]
        }
      ]
    },
    {
      "cell_type": "markdown",
      "source": [
        "Para este modelo, dos 18 usuários do conjunto de teste que compraram uma casa, o modelo previu corretamente 16 deles, resultando em um recall 89%."
      ],
      "metadata": {
        "id": "747d9gel8CRN"
      }
    },
    {
      "cell_type": "markdown",
      "source": [
        "## **Random Forest Otimizado**"
      ],
      "metadata": {
        "id": "UAU_VR2G40At"
      }
    },
    {
      "cell_type": "code",
      "source": [
        "# Definição do modelo de Random Forest\n",
        "rf_cv = RandomForestClassifier(random_state=42)\n",
        "\n",
        "# Definição do espaço de hiperparâmetros para otimização\n",
        "param_grid = {\n",
        "    'max_depth': [2, 3, 5],\n",
        "    'max_features': [2, 3, 4],\n",
        "    'class_weight': [None, 'balanced'],\n",
        "    'n_estimators': [5, 10, 20] # número de árvores\n",
        "}\n",
        "\n",
        "# Configuração do Grid Search com validação cruzada (3 folds)\n",
        "grid_search = GridSearchCV(\n",
        "    estimator=rf_cv,\n",
        "    param_grid=param_grid,\n",
        "    scoring='recall',\n",
        "    cv=3,\n",
        ")\n",
        "\n",
        "grid_search.fit(X_train, y_train)\n",
        "\n",
        "# Melhor modelo encontrado\n",
        "best_model = grid_search.best_estimator_\n",
        "\n",
        "# Avaliando no conjunto de teste\n",
        "y_pred = best_model.predict(X_test)\n",
        "\n",
        "# Avaliar o modelo\n",
        "accuracy = accuracy_score(y_test, y_pred)\n",
        "report = classification_report(y_test, y_pred)\n",
        "\n",
        "print(f\"Acurácia: {accuracy:.4f}\")\n",
        "print(\"Relatório de Classificação:\")\n",
        "print(report)"
      ],
      "metadata": {
        "colab": {
          "base_uri": "https://localhost:8080/"
        },
        "id": "JQo5zMQ-rZ-d",
        "outputId": "c6d1d422-c462-41a3-e694-834dee87f1d1"
      },
      "execution_count": 159,
      "outputs": [
        {
          "output_type": "stream",
          "name": "stdout",
          "text": [
            "Acurácia: 0.4737\n",
            "Relatório de Classificação:\n",
            "              precision    recall  f1-score   support\n",
            "\n",
            "           0       0.71      0.38      0.50        39\n",
            "           1       0.33      0.67      0.44        18\n",
            "\n",
            "    accuracy                           0.47        57\n",
            "   macro avg       0.52      0.53      0.47        57\n",
            "weighted avg       0.59      0.47      0.48        57\n",
            "\n"
          ]
        }
      ]
    },
    {
      "cell_type": "code",
      "source": [
        "# Armazena a influencia de cada feature no Random Forest Otimizado\n",
        "influencia_features.loc[len(influencia_features)] = ['5 - Random Forest Otimizado'] + list(best_model.feature_importances_)\n",
        "\n",
        "# Matriz de confusão para Random Forest Otimizado\n",
        "recall_c1.append(matriz_de_confusao(y_test, y_pred))"
      ],
      "metadata": {
        "colab": {
          "base_uri": "https://localhost:8080/"
        },
        "id": "7fOYO9JHvvKV",
        "outputId": "f3f67646-c772-47ea-eba8-2f9dfef30a34"
      },
      "execution_count": 160,
      "outputs": [
        {
          "output_type": "stream",
          "name": "stdout",
          "text": [
            "                            Previsto\n",
            "                   Não-Comprou       Comprou\n",
            "     Não-Comprou        15              24\n",
            "Real\n",
            "         Comprou         6              12\n"
          ]
        }
      ]
    },
    {
      "cell_type": "markdown",
      "source": [
        "Para este modelo, dos 18 usuários do conjunto de teste que compraram uma casa, o modelo previu corretamente 12 deles, resultando em um recall de 67%."
      ],
      "metadata": {
        "id": "2NcSQEekXW5-"
      }
    },
    {
      "cell_type": "markdown",
      "source": [
        "# **Resultados**"
      ],
      "metadata": {
        "id": "nzLd-Orq5JpG"
      }
    },
    {
      "cell_type": "markdown",
      "source": [
        "## Influencia de cada feature na decisão do modelo"
      ],
      "metadata": {
        "id": "a2rra65OL8Gq"
      }
    },
    {
      "cell_type": "code",
      "source": [
        "influencia_features.sort_values(by='Modelo', ignore_index=True)"
      ],
      "metadata": {
        "colab": {
          "base_uri": "https://localhost:8080/",
          "height": 238
        },
        "id": "VeyJ-iWjIfcP",
        "outputId": "b60ea462-2b6f-4642-8960-c15a962814e8"
      },
      "execution_count": 161,
      "outputs": [
        {
          "output_type": "execute_result",
          "data": {
            "text/plain": [
              "                              Modelo     Idade     Renda  Tempo_Site  \\\n",
              "0            0 - Regressão Logística  0.013296  0.000004    0.061570   \n",
              "1  1 - Regressão Logística Otimizada  0.000000 -0.000004    0.018581   \n",
              "2              2 - Árvore de Decisão  0.289583  0.168878    0.488650   \n",
              "3    3 - Árvore de Decisão Otimizada  0.000000  0.070399    0.929601   \n",
              "4                  4 - Random Forest  0.339279  0.113105    0.490964   \n",
              "5        5 - Random Forest Otimizado  0.176420  0.016720    0.735113   \n",
              "\n",
              "   Anúncio_Clicado  \n",
              "0         0.669288  \n",
              "1         0.000000  \n",
              "2         0.052890  \n",
              "3         0.000000  \n",
              "4         0.056653  \n",
              "5         0.071748  "
            ],
            "text/html": [
              "\n",
              "  <div id=\"df-41a09818-0040-4ced-83cc-300c5ec2355d\" class=\"colab-df-container\">\n",
              "    <div>\n",
              "<style scoped>\n",
              "    .dataframe tbody tr th:only-of-type {\n",
              "        vertical-align: middle;\n",
              "    }\n",
              "\n",
              "    .dataframe tbody tr th {\n",
              "        vertical-align: top;\n",
              "    }\n",
              "\n",
              "    .dataframe thead th {\n",
              "        text-align: right;\n",
              "    }\n",
              "</style>\n",
              "<table border=\"1\" class=\"dataframe\">\n",
              "  <thead>\n",
              "    <tr style=\"text-align: right;\">\n",
              "      <th></th>\n",
              "      <th>Modelo</th>\n",
              "      <th>Idade</th>\n",
              "      <th>Renda</th>\n",
              "      <th>Tempo_Site</th>\n",
              "      <th>Anúncio_Clicado</th>\n",
              "    </tr>\n",
              "  </thead>\n",
              "  <tbody>\n",
              "    <tr>\n",
              "      <th>0</th>\n",
              "      <td>0 - Regressão Logística</td>\n",
              "      <td>0.013296</td>\n",
              "      <td>0.000004</td>\n",
              "      <td>0.061570</td>\n",
              "      <td>0.669288</td>\n",
              "    </tr>\n",
              "    <tr>\n",
              "      <th>1</th>\n",
              "      <td>1 - Regressão Logística Otimizada</td>\n",
              "      <td>0.000000</td>\n",
              "      <td>-0.000004</td>\n",
              "      <td>0.018581</td>\n",
              "      <td>0.000000</td>\n",
              "    </tr>\n",
              "    <tr>\n",
              "      <th>2</th>\n",
              "      <td>2 - Árvore de Decisão</td>\n",
              "      <td>0.289583</td>\n",
              "      <td>0.168878</td>\n",
              "      <td>0.488650</td>\n",
              "      <td>0.052890</td>\n",
              "    </tr>\n",
              "    <tr>\n",
              "      <th>3</th>\n",
              "      <td>3 - Árvore de Decisão Otimizada</td>\n",
              "      <td>0.000000</td>\n",
              "      <td>0.070399</td>\n",
              "      <td>0.929601</td>\n",
              "      <td>0.000000</td>\n",
              "    </tr>\n",
              "    <tr>\n",
              "      <th>4</th>\n",
              "      <td>4 - Random Forest</td>\n",
              "      <td>0.339279</td>\n",
              "      <td>0.113105</td>\n",
              "      <td>0.490964</td>\n",
              "      <td>0.056653</td>\n",
              "    </tr>\n",
              "    <tr>\n",
              "      <th>5</th>\n",
              "      <td>5 - Random Forest Otimizado</td>\n",
              "      <td>0.176420</td>\n",
              "      <td>0.016720</td>\n",
              "      <td>0.735113</td>\n",
              "      <td>0.071748</td>\n",
              "    </tr>\n",
              "  </tbody>\n",
              "</table>\n",
              "</div>\n",
              "    <div class=\"colab-df-buttons\">\n",
              "\n",
              "  <div class=\"colab-df-container\">\n",
              "    <button class=\"colab-df-convert\" onclick=\"convertToInteractive('df-41a09818-0040-4ced-83cc-300c5ec2355d')\"\n",
              "            title=\"Convert this dataframe to an interactive table.\"\n",
              "            style=\"display:none;\">\n",
              "\n",
              "  <svg xmlns=\"http://www.w3.org/2000/svg\" height=\"24px\" viewBox=\"0 -960 960 960\">\n",
              "    <path d=\"M120-120v-720h720v720H120Zm60-500h600v-160H180v160Zm220 220h160v-160H400v160Zm0 220h160v-160H400v160ZM180-400h160v-160H180v160Zm440 0h160v-160H620v160ZM180-180h160v-160H180v160Zm440 0h160v-160H620v160Z\"/>\n",
              "  </svg>\n",
              "    </button>\n",
              "\n",
              "  <style>\n",
              "    .colab-df-container {\n",
              "      display:flex;\n",
              "      gap: 12px;\n",
              "    }\n",
              "\n",
              "    .colab-df-convert {\n",
              "      background-color: #E8F0FE;\n",
              "      border: none;\n",
              "      border-radius: 50%;\n",
              "      cursor: pointer;\n",
              "      display: none;\n",
              "      fill: #1967D2;\n",
              "      height: 32px;\n",
              "      padding: 0 0 0 0;\n",
              "      width: 32px;\n",
              "    }\n",
              "\n",
              "    .colab-df-convert:hover {\n",
              "      background-color: #E2EBFA;\n",
              "      box-shadow: 0px 1px 2px rgba(60, 64, 67, 0.3), 0px 1px 3px 1px rgba(60, 64, 67, 0.15);\n",
              "      fill: #174EA6;\n",
              "    }\n",
              "\n",
              "    .colab-df-buttons div {\n",
              "      margin-bottom: 4px;\n",
              "    }\n",
              "\n",
              "    [theme=dark] .colab-df-convert {\n",
              "      background-color: #3B4455;\n",
              "      fill: #D2E3FC;\n",
              "    }\n",
              "\n",
              "    [theme=dark] .colab-df-convert:hover {\n",
              "      background-color: #434B5C;\n",
              "      box-shadow: 0px 1px 3px 1px rgba(0, 0, 0, 0.15);\n",
              "      filter: drop-shadow(0px 1px 2px rgba(0, 0, 0, 0.3));\n",
              "      fill: #FFFFFF;\n",
              "    }\n",
              "  </style>\n",
              "\n",
              "    <script>\n",
              "      const buttonEl =\n",
              "        document.querySelector('#df-41a09818-0040-4ced-83cc-300c5ec2355d button.colab-df-convert');\n",
              "      buttonEl.style.display =\n",
              "        google.colab.kernel.accessAllowed ? 'block' : 'none';\n",
              "\n",
              "      async function convertToInteractive(key) {\n",
              "        const element = document.querySelector('#df-41a09818-0040-4ced-83cc-300c5ec2355d');\n",
              "        const dataTable =\n",
              "          await google.colab.kernel.invokeFunction('convertToInteractive',\n",
              "                                                    [key], {});\n",
              "        if (!dataTable) return;\n",
              "\n",
              "        const docLinkHtml = 'Like what you see? Visit the ' +\n",
              "          '<a target=\"_blank\" href=https://colab.research.google.com/notebooks/data_table.ipynb>data table notebook</a>'\n",
              "          + ' to learn more about interactive tables.';\n",
              "        element.innerHTML = '';\n",
              "        dataTable['output_type'] = 'display_data';\n",
              "        await google.colab.output.renderOutput(dataTable, element);\n",
              "        const docLink = document.createElement('div');\n",
              "        docLink.innerHTML = docLinkHtml;\n",
              "        element.appendChild(docLink);\n",
              "      }\n",
              "    </script>\n",
              "  </div>\n",
              "\n",
              "\n",
              "<div id=\"df-50c213b5-e5ca-4171-a3af-7548d7d86063\">\n",
              "  <button class=\"colab-df-quickchart\" onclick=\"quickchart('df-50c213b5-e5ca-4171-a3af-7548d7d86063')\"\n",
              "            title=\"Suggest charts\"\n",
              "            style=\"display:none;\">\n",
              "\n",
              "<svg xmlns=\"http://www.w3.org/2000/svg\" height=\"24px\"viewBox=\"0 0 24 24\"\n",
              "     width=\"24px\">\n",
              "    <g>\n",
              "        <path d=\"M19 3H5c-1.1 0-2 .9-2 2v14c0 1.1.9 2 2 2h14c1.1 0 2-.9 2-2V5c0-1.1-.9-2-2-2zM9 17H7v-7h2v7zm4 0h-2V7h2v10zm4 0h-2v-4h2v4z\"/>\n",
              "    </g>\n",
              "</svg>\n",
              "  </button>\n",
              "\n",
              "<style>\n",
              "  .colab-df-quickchart {\n",
              "      --bg-color: #E8F0FE;\n",
              "      --fill-color: #1967D2;\n",
              "      --hover-bg-color: #E2EBFA;\n",
              "      --hover-fill-color: #174EA6;\n",
              "      --disabled-fill-color: #AAA;\n",
              "      --disabled-bg-color: #DDD;\n",
              "  }\n",
              "\n",
              "  [theme=dark] .colab-df-quickchart {\n",
              "      --bg-color: #3B4455;\n",
              "      --fill-color: #D2E3FC;\n",
              "      --hover-bg-color: #434B5C;\n",
              "      --hover-fill-color: #FFFFFF;\n",
              "      --disabled-bg-color: #3B4455;\n",
              "      --disabled-fill-color: #666;\n",
              "  }\n",
              "\n",
              "  .colab-df-quickchart {\n",
              "    background-color: var(--bg-color);\n",
              "    border: none;\n",
              "    border-radius: 50%;\n",
              "    cursor: pointer;\n",
              "    display: none;\n",
              "    fill: var(--fill-color);\n",
              "    height: 32px;\n",
              "    padding: 0;\n",
              "    width: 32px;\n",
              "  }\n",
              "\n",
              "  .colab-df-quickchart:hover {\n",
              "    background-color: var(--hover-bg-color);\n",
              "    box-shadow: 0 1px 2px rgba(60, 64, 67, 0.3), 0 1px 3px 1px rgba(60, 64, 67, 0.15);\n",
              "    fill: var(--button-hover-fill-color);\n",
              "  }\n",
              "\n",
              "  .colab-df-quickchart-complete:disabled,\n",
              "  .colab-df-quickchart-complete:disabled:hover {\n",
              "    background-color: var(--disabled-bg-color);\n",
              "    fill: var(--disabled-fill-color);\n",
              "    box-shadow: none;\n",
              "  }\n",
              "\n",
              "  .colab-df-spinner {\n",
              "    border: 2px solid var(--fill-color);\n",
              "    border-color: transparent;\n",
              "    border-bottom-color: var(--fill-color);\n",
              "    animation:\n",
              "      spin 1s steps(1) infinite;\n",
              "  }\n",
              "\n",
              "  @keyframes spin {\n",
              "    0% {\n",
              "      border-color: transparent;\n",
              "      border-bottom-color: var(--fill-color);\n",
              "      border-left-color: var(--fill-color);\n",
              "    }\n",
              "    20% {\n",
              "      border-color: transparent;\n",
              "      border-left-color: var(--fill-color);\n",
              "      border-top-color: var(--fill-color);\n",
              "    }\n",
              "    30% {\n",
              "      border-color: transparent;\n",
              "      border-left-color: var(--fill-color);\n",
              "      border-top-color: var(--fill-color);\n",
              "      border-right-color: var(--fill-color);\n",
              "    }\n",
              "    40% {\n",
              "      border-color: transparent;\n",
              "      border-right-color: var(--fill-color);\n",
              "      border-top-color: var(--fill-color);\n",
              "    }\n",
              "    60% {\n",
              "      border-color: transparent;\n",
              "      border-right-color: var(--fill-color);\n",
              "    }\n",
              "    80% {\n",
              "      border-color: transparent;\n",
              "      border-right-color: var(--fill-color);\n",
              "      border-bottom-color: var(--fill-color);\n",
              "    }\n",
              "    90% {\n",
              "      border-color: transparent;\n",
              "      border-bottom-color: var(--fill-color);\n",
              "    }\n",
              "  }\n",
              "</style>\n",
              "\n",
              "  <script>\n",
              "    async function quickchart(key) {\n",
              "      const quickchartButtonEl =\n",
              "        document.querySelector('#' + key + ' button');\n",
              "      quickchartButtonEl.disabled = true;  // To prevent multiple clicks.\n",
              "      quickchartButtonEl.classList.add('colab-df-spinner');\n",
              "      try {\n",
              "        const charts = await google.colab.kernel.invokeFunction(\n",
              "            'suggestCharts', [key], {});\n",
              "      } catch (error) {\n",
              "        console.error('Error during call to suggestCharts:', error);\n",
              "      }\n",
              "      quickchartButtonEl.classList.remove('colab-df-spinner');\n",
              "      quickchartButtonEl.classList.add('colab-df-quickchart-complete');\n",
              "    }\n",
              "    (() => {\n",
              "      let quickchartButtonEl =\n",
              "        document.querySelector('#df-50c213b5-e5ca-4171-a3af-7548d7d86063 button');\n",
              "      quickchartButtonEl.style.display =\n",
              "        google.colab.kernel.accessAllowed ? 'block' : 'none';\n",
              "    })();\n",
              "  </script>\n",
              "</div>\n",
              "\n",
              "    </div>\n",
              "  </div>\n"
            ],
            "application/vnd.google.colaboratory.intrinsic+json": {
              "type": "dataframe",
              "summary": "{\n  \"name\": \"influencia_features\",\n  \"rows\": 6,\n  \"fields\": [\n    {\n      \"column\": \"Modelo\",\n      \"properties\": {\n        \"dtype\": \"string\",\n        \"num_unique_values\": 6,\n        \"samples\": [\n          \"0 - Regress\\u00e3o Log\\u00edstica\",\n          \"1 - Regress\\u00e3o Log\\u00edstica Otimizada\",\n          \"5 - Random Forest Otimizado\"\n        ],\n        \"semantic_type\": \"\",\n        \"description\": \"\"\n      }\n    },\n    {\n      \"column\": \"Idade\",\n      \"properties\": {\n        \"dtype\": \"number\",\n        \"std\": 0.1540069916649333,\n        \"min\": 0.0,\n        \"max\": 0.33927862794715324,\n        \"num_unique_values\": 5,\n        \"samples\": [\n          0.0,\n          0.17641962667836872,\n          0.2895827317567656\n        ],\n        \"semantic_type\": \"\",\n        \"description\": \"\"\n      }\n    },\n    {\n      \"column\": \"Renda\",\n      \"properties\": {\n        \"dtype\": \"number\",\n        \"std\": 0.06905360021654781,\n        \"min\": -4.397199481102611e-06,\n        \"max\": 0.168877910560042,\n        \"num_unique_values\": 6,\n        \"samples\": [\n          4.38357482532677e-06,\n          -4.397199481102611e-06,\n          0.016719842298671173\n        ],\n        \"semantic_type\": \"\",\n        \"description\": \"\"\n      }\n    },\n    {\n      \"column\": \"Tempo_Site\",\n      \"properties\": {\n        \"dtype\": \"number\",\n        \"std\": 0.3609372938528665,\n        \"min\": 0.018581040152913245,\n        \"max\": 0.9296011226189513,\n        \"num_unique_values\": 6,\n        \"samples\": [\n          0.06157009300996593,\n          0.018581040152913245,\n          0.7351128718589263\n        ],\n        \"semantic_type\": \"\",\n        \"description\": \"\"\n      }\n    },\n    {\n      \"column\": \"An\\u00fancio_Clicado\",\n      \"properties\": {\n        \"dtype\": \"number\",\n        \"std\": 0.26020024542157655,\n        \"min\": 0.0,\n        \"max\": 0.6692883965125223,\n        \"num_unique_values\": 5,\n        \"samples\": [\n          0.0,\n          0.07174765916403396,\n          0.052889713679745494\n        ],\n        \"semantic_type\": \"\",\n        \"description\": \"\"\n      }\n    }\n  ]\n}"
            }
          },
          "metadata": {},
          "execution_count": 161
        }
      ]
    },
    {
      "cell_type": "markdown",
      "source": [
        "Para a regressão logística, o valor em cada feature diz respeito ao coeficiente associado àquela variável. Quanto maior o coeficiente, maior a influência que aquela variável exerce na decisão do modelo. Pelo dataframe, nota-se que o primeiro modelo de regressão logística foi mais influenciado por \"Anúncio_Clicado\", enquanto que o modelo otimizado foi mais influenciado por \"Tempo_Site\".\n",
        "\n",
        "Já para os modelos baseados em árvore, o valor em cada feature é um indicador do quanto aquela variável contribuiu para o ganho de informação ao se dividir um nó e o somatório da contribuição de cada variável deve ser 1 (100%). Tanto na árvore de decisão quanto no random forest o primeiro modelo foi mais influenciado por \"Tempo_Site\" e passou a ser ainda mais influenciado por \"Tempo_Site\" após a otimização.\n",
        "\n",
        "Os valores obtidos no dataframe indicam que o **tempo** que um usuário passa navegando pelo site é o fator mais importante para o modelo decidir se ele vai ou não comprar uma casa."
      ],
      "metadata": {
        "id": "x44CGuhtN3ov"
      }
    },
    {
      "cell_type": "markdown",
      "source": [
        "## Desempenho de cada modelo antes e depois da otimização"
      ],
      "metadata": {
        "id": "UCRbrpL9NULb"
      }
    },
    {
      "cell_type": "markdown",
      "source": [
        "A aplicação de técnicas de otimização de hiperparâmetros, combinada com o Cross Validation, resultou em um aumento de performance para os três modelos, considerando que a métrica mais importante nesse problema é o **recall da classe 1**."
      ],
      "metadata": {
        "id": "toQGLVZY84gs"
      }
    },
    {
      "cell_type": "code",
      "source": [
        "# Reorganiza a lista de recall para ficar antes/depois de cada otimização de modelo\n",
        "recall_organizado = []\n",
        "for i in range(3):\n",
        "  recall_organizado.append(recall_c1[i])\n",
        "  recall_organizado.append(recall_c1[i+3])\n",
        "\n",
        "# Dicionário para plotagem dos valores\n",
        "data = {\n",
        "    'Modelo': [\n",
        "        'Regressão Logística', 'Regressão Logística',\n",
        "        'Árvore de Decisão', 'Árvore de Decisão',\n",
        "        'Random Forest', 'Random Forest'\n",
        "    ],\n",
        "    'Otimização': ['Antes', 'Depois', 'Antes', 'Depois', 'Antes', 'Depois'],\n",
        "    'Recall': recall_organizado\n",
        "}\n",
        "\n",
        "# Cria um DataFrame\n",
        "df = pd.DataFrame(data)\n",
        "\n",
        "# Cria o gráfico de barras\n",
        "plt.figure(figsize=(10, 6))\n",
        "ax = sns.barplot(data=df, x='Modelo', y='Recall', hue='Otimização', palette='viridis')\n",
        "ax.get_yaxis().set_visible(False)\n",
        "\n",
        "# Adiciona rótulos e título\n",
        "plt.title('Comparação de Recall da Classe 1 antes e depois da otimização', fontsize=14)\n",
        "plt.xlabel('Modelo', fontsize=12)\n",
        "\n",
        "# Posiciona valores no topo das barras\n",
        "for container in ax.containers:\n",
        "    plt.bar_label(container, fmt='%.2f', label_type='edge', padding=3)\n",
        "\n",
        "# Exibir o gráfico\n",
        "plt.tight_layout()\n",
        "plt.show()"
      ],
      "metadata": {
        "colab": {
          "base_uri": "https://localhost:8080/",
          "height": 607
        },
        "id": "2JuroI70Ao45",
        "outputId": "d621ca90-fff9-443a-85fd-914f09ec3f9b"
      },
      "execution_count": 162,
      "outputs": [
        {
          "output_type": "display_data",
          "data": {
            "text/plain": [
              "<Figure size 1000x600 with 1 Axes>"
            ],
            "image/png": "[encoded data removed]"
          },
          "metadata": {}
        }
      ]
    },
    {
      "cell_type": "markdown",
      "source": [
        "O gráfico de comparação de modelos antes/depois da otimização mostra que a Árvore de Decisão Otimizada é o modelo com melhor performance para este dataset, com um recall de 89% para a classe 1. Isso significa que de cada 100 usuários que vão comprar uma casa, o modelo é capaz de identificar 89 deles, favorecendo, por exemplo, campanhas de marketing e propaganda a alcançar a maioria dos usuários-alvo."
      ],
      "metadata": {
        "id": "UKse_rDpW81h"
      }
    },
    {
      "cell_type": "code",
      "source": [],
      "metadata": {
        "id": "hM6IP1mcBuwQ"
      },
      "execution_count": 162,
      "outputs": []
    }
  ]
}